{
 "cells": [
  {
   "cell_type": "markdown",
   "metadata": {},
   "source": [
    "# Tarea 1\n",
    "Dado el corpus proporcionado, obtener la curva de Zipf de las palabras en\n",
    "escala logaritmica.\n",
    "Pasos:\n",
    "\n",
    "1. Limpiar el corpus: eliminar signos de puntuacion, de interrogacion, admiracion y elementos no lexicos.\n",
    "\n",
    "2. Aplicar un algoritmo de Stemming a los tokens limpios.\n",
    "3. Obtener las frecuencias de los tipos en el corpus.\n",
    "4. Ordenar por el rango estadistico de mayor a menor.\n",
    "5. Graficar el diagrama de dispersion rango-frecuencia en escala logarıtmica."
   ]
  },
  {
   "cell_type": "code",
   "execution_count": 4,
   "metadata": {},
   "outputs": [],
   "source": [
    "# Importamos las librerias\n",
    "\n",
    "# Usamos os para cargar los libros\n",
    "from os import listdir,getcwd\n",
    "from os.path import isfile, join\n",
    "import re\n"
   ]
  },
  {
   "cell_type": "markdown",
   "metadata": {
    "collapsed": true
   },
   "source": [
    "## Importamos el corpus\n",
    "Lo primero que hacemos es importar el corpus al notebook para que podamos utilizarlos."
   ]
  },
  {
   "cell_type": "code",
   "execution_count": 85,
   "metadata": {},
   "outputs": [],
   "source": [
    "\n",
    "# Obtenemos el path del folder donde se almacenan los corpus\n",
    "folder_path = (getcwd() + r\"\\CorpusDocs\")\n",
    "\n",
    "# Los almacenamos en una lista donde se almacenan los nombres de los archivos.\n",
    "# Esto es en caso de que usemos todos los corpus.\n",
    "corpus_name_list = [f for f in listdir(folder_path) if isfile(join(folder_path, f))]\n",
    "\n",
    "def loadAllCorpus():\n",
    "    \"\"\"\n",
    "    Esta funcion carga todos los corpus que estan en el folder Corpus Docs.\n",
    "    \"\"\"\n",
    "    corpis = ''\n",
    "    for file in corpus_name_list:\n",
    "        with open(\"./CorpusDocs/\" + file, 'r', encoding=\"utf8\") as f:\n",
    "            corpis += f.read()\n",
    "    return corpis\n",
    "\n",
    "def loadCorpus(corpus_name):\n",
    "    \"\"\"\n",
    "    Esta funcion nos sirve para cargar un corpus especifico\n",
    "    \"\"\"\n",
    "    with open(\"./CorpusDocs/\" + corpus_name, 'r', encoding=\"utf8\") as f:\n",
    "        corpus = f.read()\n",
    "    return corpus\n",
    "        \n",
    "def identifyWords(text):\n",
    "    \"\"\"\n",
    "    Esta función divide las palabras por espacio y limpia las palabras de los caracteres especiales\n",
    "    \"\"\"\n",
    "    vocales = {\n",
    "        'á': 'a',\n",
    "        'é': 'e',\n",
    "        'í': 'i',\n",
    "        'ó': 'o',\n",
    "        'ú': 'u'\n",
    "        }\n",
    "    texto2 = ''\n",
    "    for val in text.lower():\n",
    "        if(val == '(' or val ==')' or val == '\\\\' or val =='{' or val =='}'  or val == '?' or val =='=' or val == ',' \n",
    "            or val == '_' or val == '-' or val == '.' or val =='[' or val ==']' or val ==':' or val =='0' or val == '1' \n",
    "            or val == '2' or val == '3' or val == '4' or val =='5' or val =='6' or val =='7' or val =='8' or val =='9' \n",
    "            or val =='α' or val =='/' or val =='ρ' or val =='^' or val == 'θ' or val == '+' or val == '-' or val == '↑'\n",
    "            or val == '·' or val == '\"'):\n",
    "                val = ' '\n",
    "        else:\n",
    "            if(val == 'á' or val == 'é' or val == 'í' or val == 'ó' or val == 'ú'):\n",
    "                val = vocales[val]\n",
    "        texto2 = texto2 + val\n",
    "    base = texto2.split()\n",
    "    return base"
   ]
  },
  {
   "cell_type": "code",
   "execution_count": 76,
   "metadata": {},
   "outputs": [],
   "source": [
    "texts = loadAllCorpus()\n",
    "text = loadCorpus('acustica (2).txt')"
   ]
  },
  {
   "cell_type": "code",
   "execution_count": 87,
   "metadata": {},
   "outputs": [
    {
     "name": "stdout",
     "output_type": "stream",
     "text": [
      "['energia', 'sonora', 'la', 'energia', 'sonora', 'o', 'energia', 'acustica', 'es', 'la', 'energia', 'que', 'transmiten', 'o', 'transportan', 'las', 'ondas', 'sonoras', 'procede', 'de', 'la', 'energia', 'vibracional', 'del', 'foco', 'sonoro', 'y', 'se', 'propaga', 'a', 'las', 'particulas', 'del', 'medio', 'que', 'atraviesan', 'en', 'forma', 'de', 'energia', 'cinetica', 'movimiento', 'de', 'las', 'particulas', 'y', 'de', 'energia', 'potencial', 'cambios', 'de', 'presion', 'producidos', 'en', 'dicho', 'medio', 'o', 'presion', 'sonora', 'al', 'irse', 'propagando', 'el', 'sonido', 'a', 'traves', 'del', 'medio', 'la', 'energia', 'se', 'transmite', 'a', 'la', 'velocidad', 'de', 'la', 'onda', 'pero', 'una', 'parte', 'de', 'la', 'energia', 'sonora', 'se', 'disipa', 'en', 'forma', 'de', 'energia', 'termica', 'la', 'energia', 'acustica', 'suele', 'tener', 'valores', 'absolutos', 'bajos', 'y', 'su', 'unidad', 'de', 'medida', 'es', 'el', 'joule', 'j', 'aunque', 'puede', 'calcularse', 'a', 'partir', 'de', 'otras', 'magnitudes', 'como', 'la', 'intensidad', 'sonora', 'tambien', 'se', 'pueden', 'calcular', 'otras', 'magnitudes', 'relacionadas', 'como', 'la', 'densidad', 'o', 'el', 'flujo', 'de', 'energia', 'acustica', 'a', 'partir', 'de', 'la', 'definicion', 'de', 'intensidad', 'acustica', 'se', 'puede', 'calcular', 'la', 'energia', 'acustica', 'que', 'atraviesa', 'una', 'superficie', 'a', 'e', 'son', 'int', 'a', 'left', 'int', 'delta', 't', 'i', 'son', 'mathbf', 'r', 't', 'dt', 'right', 'da', 'donde', 'i', 'son', 'es', 'la', 'intensidad', 'acustica', 'que', 'es', 'funcion', 'del', 'punto', 'escogido', 'y', 'del', 'tiempo', 'delta', 't', 'el', 'intervalo', 'de', 'tiempo', 'durante', 'el', 'que', 'se', 'pretende', 'medir', 'la', 'energia', 'sonora', 'indice', 'ocultar', 'densidad', 'de', 'energia', 'acustica', 'flujo', 'de', 'energia', 'sonora', 'conservacion', 'de', 'la', 'energia', 'acustica', 'disipacion', 'de', 'la', 'energia', 'acustica', 'coeficiente', 'de', 'absorcion', 'acustica', 'transductores', 'acusticos', 'referencias', 'densidad', 'de', 'energia', 'acustica', 'editar', 'editar', 'codigo', 'la', 'densidad', 'de', 'energia', 'acustica', 'o', 'energia', 'acustica', 'por', 'unidad', 'de', 'volumen', 'es', 'la', 'cantidad', 'media', 'de', 'energia', 'acustica', 'ε', 'que', 'corresponde', 'a', 'un', 'volumen', 'unidad', 'equivale', 'tambien', 'al', 'cociente', 'entre', 'la', 'intensidad', 'sonora', 'y', 'la', 'velocidad', 'del', 'sonido', 'la', 'unidad', 'de', 'medida', 'es', 'el', 'julio', 'por', 'metro', 'cubico', 'j', 'm', 'epsilon', 'mbox', 'energia', 'sonora', 'over', 'mbox', 'volumen', 'mbox', 'intensidad', 'over', 'mbox', 'velocidad', 'i', 'over', 'v', 'son', 'para', 'una', 'onda', 'sonora', 'plana', 'la', 'densidad', 'de', 'energia', 'se', 'calcula', 'a', 'partir', 'de', 'la', 'potencia', 'cuadratica', 'media', 'prms', 'la', 'densidad', 'del', 'medio', 'o', 'y', 'de', 'la', 'velocidad', 'vson', 'segun', 'de', 'la', 'formula', 'epsilon', 'p', 'rms', 'over', 'rho', 'v', 'son', 'la', 'densidad', 'de', 'energia', 'acustica', 'total', 'cinetica', 'mas', 'potencial', 'equivale', 'al', 'producto', 'de', 'la', 'densidad', 'del', 'medio', 'por', 'el', 'cuadrado', 'de', 'la', 'velocidad', 'de', 'las', 'particulas', 'en', 'la', 'direccion', 'de', 'propagacion', 'de', 'la', 'onda', 'epsilon', 'rho', 'u', 'flujo', 'de', 'energia', 'sonora', 'editar', 'editar', 'codigo', 'el', 'flujo', 'de', 'energia', 'acustica', 'o', 'sonora', 'simbolizado', 'por', 'q', 'se', 'obtiene', 'como', 'la', 'integral', 'de', 'la', 'velocidad', 'de', 'la', 'particula', 'v', 'por', 'el', 'diferencial', 'de', 'la', 'superficie', 'a', 'de', 'modo', 'que', 'solamente', 'las', 'porciones', 'de', 'la', 'velocidad', 'perpendiculares', 'a', 'la', 'superficie', 'son', 'importantes', 'q', 'int', 'mathbf', 'v', 'cdot', 'mathrm', 'd', 'mathbf', 'a', 'la', 'unidad', 'de', 'medida', 'es', 'el', 'vatio', 'w', 'el', 'flujo', 'de', 'energia', 'sonora', 'señala', 'el', 'volumen', 'del', 'medio', 'de', 'transmision', 'aire', 'que', 'debido', 'al', 'exceso', 'de', 'la', 'presion', 'sonora', 'fluye', 'por', 'la', 'unidad', 'de', 'tiempo', 's', 'por', 'una', 'superficie', 'a', 'es', 'la', 'media', 'del', 'flujo', 'de', 'energia', 'sonora', 'para', 'un', 'periodo', 'a', 'traves', 'de', 'un', 'area', 'especificada', 'en', 'un', 'medio', 'de', 'transmision', 'de', 'densidad', 'para', 'ondas', 'planas', 'o', 'esfericas', 'libres', 'que', 'tengan', 'una', 'velocidad', 'de', 'propagacion', 'v', 'el', 'flujo', 'de', 'energia', 'a', 'traves', 'del', 'area', 'a', 'correspondiente', 'a', 'una', 'presion', 'sonora', 'p', 'es', 'j', 'p', 'a', 'v', 'cos', 'donde', 'angulo', 'entre', 'la', 'direccion', 'de', 'propagacion', 'del', 'sonido', 'y', 'la', 'direccion', 'normal', 'perpendicular', 'al', 'area', 'a', 'podemos', 'distinguir', 'entre', 'flujo', 'de', 'energia', 'acustica', 'transmitida', 'flujo', 'de', 'energia', 'acustica', 'reflejada', 'flujo', 'de', 'energia', 'acustica', 'disipada', 'y', 'flujo', 'de', 'energia', 'acustica', 'incidente', 'el', 'microfono', 'convierte', 'una', 'señal', 'sonora', 'en', 'una', 'señal', 'electrica', 'que', 'luego', 'es', 'amplificada', 'mediante', 'un', 'suministro', 'adicional', 'de', 'energia', 'electrica', 'electrica', 'conservacion', 'de', 'la', 'energia', 'acustica', 'editar', 'editar', 'codigo', 'como', 'el', 'resto', 'de', 'manifestaciones', 'de', 'la', 'energia', 'debe', 'cumplirse', 'el', 'principio', 'de', 'conservacion', 'de', 'la', 'energia', 'si', 'no', 'hay', 'otro', 'tipo', 'de', 'transformaciones', 'de', 'energia', 'la', 'energia', 'incidente', 'sera', 'igual', 'a', 'la', 'suma', 'de', 'las', 'energias', 'transmitida', 'disipada', 'y', 'reflejada', 'e', 'trans', 'e', 'disi', 'e', 'refle', 'e', 'incid', 'disipacion', 'de', 'la', 'energia', 'acustica', 'editar', 'editar', 'codigo', 'al', 'propagarse', 'la', 'energia', 'acustica', 'una', 'parte', 'de', 'la', 'misma', 'se', 'disipa', 'en', 'el', 'medio', 'transmisor', 'en', 'el', 'caso', 'del', 'aire', 'esta', 'absorcion', 'atmosferica', 'se', 'debe', 'a', 'la', 'amortiguacion', 'que', 'sufren', 'las', 'ondas', 'sonoras', 'por', 'el', 'rozamiento', 'interno', 'y', 'la', 'conductividad', 'calorifica', 'del', 'aire', 'esa', 'energia', 'disipada', 'se', 'trransforma', 'en', 'calor', 'o', 'energia', 'termica', 'coeficiente', 'de', 'absorcion', 'acustica', 'editar', 'editar', 'codigo', 'es', 'el', 'cociente', 'entre', 'la', 'suma', 'de', 'los', 'flujos', 'de', 'energia', 'acustica', 'transmitida', 'y', 'disipada', 'y', 'el', 'flujo', 'de', 'energia', 'acustica', 'incidente', 'alpha', 'e', 'trans', 'e', 'disi', 'over', 'e', 'inci', 'tambien', 'se', 'define', 'como', 'el', 'cociente', 'entre', 'la', 'energia', 'absorbida', 'por', 'un', 'material', 'y', 'la', 'energia', 'que', 'incide', 'sobre', 'el', 'alpha', 'e', 'inci', 'e', 'refl', 'over', 'e', 'inci', 'equivale', 'a', 'la', 'diferencia', 'entre', 'la', 'unidad', 'y', 'el', 'coeficiente', 'de', 'reflexion', 'alpha', 'r', 'transductores', 'acusticos', 'editar', 'editar', 'codigo', 'los', 'transductores', 'son', 'dispositivos', 'que', 'transforman', 'un', 'tipo', 'de', 'energia', 'en', 'otra', 'los', 'microfonos', 'y', 'altavoces', 'son', 'transductores', 'acusticos', 'que', 'transforman', 'la', 'energia', 'acustica', 'en', 'energia', 'electrica', 'o', 'viceversa', 'el', 'altavoz', 'convierte', 'energia', 'electrica', 'en', 'energia', 'acustica', 'un', 'microfono', 'es', 'un', 'dispositivo', 'que', 'capta', 'ondas', 'sonoras', 'de', 'una', 'determinada', 'energia', 'acustica', 'y', 'las', 'transforma', 'en', 'una', 'corriente', 'electrica', 'que', 'reproduce', 'las', 'caracteristicas', 'de', 'la', 'onda', 'sonora', 'original', 'en', 'primer', 'lugar', 'una', 'lamina', 'elastica', 'fina', 'llamada', 'diafragma', 'capta', 'las', 'variaciones', 'de', 'presion', 'del', 'medio', 'de', 'transmision', 'y', 'las', 'convierte', 'en', 'vibraciones', 'mecanicas', 'a', 'continuacion', 'las', 'vibraciones', 'mecanicas', 'del', 'diafragma', 'generan', 'una', 'señal', 'electrica', 'de', 'voltaje', 'e', 'intensidad', 'proporcionales', 'un', 'altavoz', 'funciona', 'a', 'la', 'inversa', 'es', 'decir', 'convierte', 'energia', 'electrica', 'en', 'energia', 'acustica', 'en', 'primer', 'lugar', 'la', 'señal', 'electrica', 'de', 'entrada', 'produce', 'fuerzas', 'electromagneticas', 'que', 'provocan', 'el', 'movimiento', 'de', 'la', 'membrana', 'del', 'altavoz', 'ese', 'movimiento', 'mueve', 'las', 'particulas', 'en', 'contacto', 'con', 'la', 'membrana', 'y', 'produce', 'ondas', 'de', 'presion', 'en', 'el', 'aire', 'o', 'el', 'medio', 'de', 'transmision', 'que', 'lo', 'rodea', 'la', 'potencia', 'electrica', 'del', 'altavoz', 'condiciona', 'su', 'potencia', 'sonora', 'y', 'la', 'energia', 'acustica', 'transmitida', 'al', 'medio', 'de', 'ella', 'tambien', 'depende', 'la', 'cantidad', 'de', 'aire', 'que', 'se', 'pone', 'en', 'movimiento', 'y', 'las', 'diferencias', 'de', 'presion', 'entre', 'unos', 'puntos', 'y', 'otros', 'la', 'frecuencia', 'de', 'la', 'señal', 'electrica', 'determina', 'la', 'frecuencia', 'o', 'tono', 'del', 'sonido', 'producido', 'referencias', 'editar', 'editar', 'codigo', 'ir', 'a', 'fisica', 'conceptual', 'paul', 'g', 'hewitt', 'pearson', 'educacion', 'mexico', 'isbn', 'ir', 'a', 'anales', 'de', 'la', 'sociedad', 'cientifica', 'argentina', 'volumen', 'ir', 'a', 'electroacustica', 'm', 'a', 'saposhkov', 'editorial', 'reverte', 'barcelona', 'pag', 'isbn', 'ir', 'a', 'manual', 'de', 'acustica', 'ruidos', 'y', 'vibraciones', 'pedro', 'flores', 'pereita', 'cap', 'ii', 'inasel', 'isbn', 'ir', 'a', 'http', 'books', 'google', 'es', 'books', 'id', 'tdsjy', 'ca', 's', 'c', 'waves', 'in', 'fluids', 'james', 'lighthill', 'cambridge', 'university', 'press', 'cambridge', 'isbn', 'ir', 'a', 'diccionario', 'de', 'tecnologia', 'ferroviaria', 'glosario', 'de', 'terminos', 'ferroviarios', 'mario', 'leon', 'editorial', 'babel', 'madrid', 'pag', 'isbn', 'ir', 'a', 'arquitectura', 'acustica', 'poetica', 'y', 'diseño', 'francesc', 'daumal', 'domènech', 'ediciones', 'upc', 'barcelona', 'isbn', 'pag', 'ir', 'a', 'aislamiento', 'acustico', 'y', 'termico', 'en', 'la', 'construccion', 'claude', 'rougeron', 'editores', 'tecnicos', 'asociados', 'barcelona', 'isbn', 'ir', 'a', 'curso', 'de', 'acustica', 'grupo', 'de', 'acustica', 'universidad', 'del', 'pais', 'vasco', 'ir', 'a', 'altavoces', 'curso', 'de', 'acustica', 'grupo', 'de', 'acustica', 'universidad', 'del', 'pais', 'vasco']\n"
     ]
    }
   ],
   "source": [
    "base = identifyWords(text)\n",
    "print(base)"
   ]
  },
  {
   "cell_type": "code",
   "execution_count": null,
   "metadata": {},
   "outputs": [],
   "source": []
  },
  {
   "cell_type": "code",
   "execution_count": null,
   "metadata": {
    "collapsed": true
   },
   "outputs": [],
   "source": []
  }
 ],
 "metadata": {
  "kernelspec": {
   "display_name": "Python 3",
   "language": "python",
   "name": "python3"
  },
  "language_info": {
   "codemirror_mode": {
    "name": "ipython",
    "version": 3
   },
   "file_extension": ".py",
   "mimetype": "text/x-python",
   "name": "python",
   "nbconvert_exporter": "python",
   "pygments_lexer": "ipython3",
   "version": "3.5.4"
  }
 },
 "nbformat": 4,
 "nbformat_minor": 2
}
