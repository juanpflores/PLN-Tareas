{
 "cells": [
  {
   "cell_type": "markdown",
   "metadata": {
    "deletable": true,
    "editable": true
   },
   "source": [
    "# Tarea 1\n",
    "Dado el corpus proporcionado, obtener la curva de Zipf de las palabras en\n",
    "escala logaritmica.\n",
    "Pasos:\n",
    "\n",
    "1. Limpiar el corpus: eliminar signos de puntuacion, de interrogacion, admiracion y elementos no lexicos.\n",
    "\n",
    "2. Aplicar un algoritmo de Stemming a los tokens limpios.\n",
    "3. Obtener las frecuencias de los tipos en el corpus.\n",
    "4. Ordenar por el rango estadistico de mayor a menor.\n",
    "5. Graficar el diagrama de dispersion rango-frecuencia en escala logarıtmica."
   ]
  },
  {
   "cell_type": "code",
   "execution_count": 1,
   "metadata": {
    "collapsed": true
   },
   "outputs": [],
   "source": [
    "# Importamos las librerias\n",
    "\n",
    "# Usamos os para cargar los libros\n",
    "from os import listdir,getcwd\n",
    "from os.path import isfile, join\n",
    "\n"
   ]
  },
  {
   "cell_type": "markdown",
   "metadata": {
    "collapsed": true,
    "deletable": true,
    "editable": true
   },
   "source": [
    "## Importamos el corpus\n",
    "Lo primero que hacemos es importar el corpus al notebook para que podamos utilizarlos."
   ]
  },
  {
   "cell_type": "code",
   "execution_count": 2,
   "metadata": {
    "collapsed": false,
    "deletable": true,
    "editable": true
   },
   "outputs": [],
   "source": [
    "\n",
    "# Obtenemos el path del folder donde se almacenan los corpus\n",
    "folder_path = (getcwd() + r\"\\CorpusDocs\")\n",
    "\n",
    "# Los almacenamos en una lista donde se almacenan los nombres de los archivos.\n",
    "# Esto es en caso de que usemos todos los corpus.\n",
    "corpus_name_list = [f for f in listdir(folder_path) if isfile(join(folder_path, f))]\n",
    "\n",
    "def loadAllCorpus():\n",
    "    \"\"\"\n",
    "    Esta funcion carga todos los corpus que estan en el foplder Corpus Docs.\n",
    "    \"\"\"\n",
    "    corpis = ''\n",
    "    for file in corpus_name_list:\n",
    "        with open(\"./CorpusDocs/\" + file, 'r', encoding=\"utf8\") as f:\n",
    "            corpis += f.read()\n",
    "    return corpis\n",
    "\n",
    "def loadCorpus(corpus_name):\n",
    "    \"\"\"\n",
    "    Esta funcion nos sirve para cargar un corpus especifico\n",
    "    \"\"\"\n",
    "    with open(\"./CorpusDocs/\" + corpus_name, 'r', encoding=\"utf8\") as f:\n",
    "        corpus = f.read()\n",
    "    return corpus\n",
    "        "
   ]
  },
  {
   "cell_type": "code",
   "execution_count": 3,
   "metadata": {
    "collapsed": false
   },
   "outputs": [],
   "source": [
    "#texts = loadAllCorpus()\n",
    "#text = loadCorpus('acustica (2).txt')"
   ]
  },
  {
   "cell_type": "code",
   "execution_count": null,
   "metadata": {
    "collapsed": false
   },
   "outputs": [],
   "source": []
  },
  {
   "cell_type": "code",
   "execution_count": null,
   "metadata": {
    "collapsed": false
   },
   "outputs": [],
   "source": []
  },
  {
   "cell_type": "code",
   "execution_count": null,
   "metadata": {
    "collapsed": true
   },
   "outputs": [],
   "source": []
  }
 ],
 "metadata": {
  "kernelspec": {
   "display_name": "Python 3",
   "language": "python",
   "name": "python3"
  },
  "language_info": {
   "codemirror_mode": {
    "name": "ipython",
    "version": 3
   },
   "file_extension": ".py",
   "mimetype": "text/x-python",
   "name": "python",
   "nbconvert_exporter": "python",
   "pygments_lexer": "ipython3",
   "version": "3.5.2"
  }
 },
 "nbformat": 4,
 "nbformat_minor": 2
}
