{
 "cells": [
  {
   "cell_type": "markdown",
   "metadata": {},
   "source": [
    "# Tarea 1\n",
    "Dado el corpus proporcionado, obtener la curva de Zipf de las palabras en\n",
    "escala logaritmica.\n",
    "Pasos:\n",
    "\n",
    "1. Limpiar el corpus: eliminar signos de puntuacion, de interrogacion, admiracion y elementos no lexicos.\n",
    "\n",
    "2. Aplicar un algoritmo de Stemming a los tokens limpios.\n",
    "3. Obtener las frecuencias de los tipos en el corpus.\n",
    "4. Ordenar por el rango estadistico de mayor a menor.\n",
    "5. Graficar el diagrama de dispersion rango-frecuencia en escala logarıtmica."
   ]
  },
  {
   "cell_type": "code",
   "execution_count": 76,
   "metadata": {},
   "outputs": [],
   "source": [
    "# Importamos las librerias\n",
    "\n",
    "# Usamos os para cargar los libros\n",
    "from os import listdir,getcwd\n",
    "from os.path import isfile, join\n",
    "import re\n"
   ]
  },
  {
   "cell_type": "markdown",
   "metadata": {
    "collapsed": true
   },
   "source": [
    "## Importamos el corpus\n",
    "Lo primero que hacemos es importar el corpus al notebook para que podamos utilizarlos."
   ]
  },
  {
   "cell_type": "code",
   "execution_count": 139,
   "metadata": {},
   "outputs": [],
   "source": [
    "\n",
    "# Obtenemos el path del folder donde se almacenan los corpus\n",
    "folder_path = (getcwd() + r\"\\CorpusDocs\")\n",
    "\n",
    "# Los almacenamos en una lista donde se almacenan los nombres de los archivos.\n",
    "# Esto es en caso de que usemos todos los corpus.\n",
    "corpus_name_list = [f for f in listdir(folder_path) if isfile(join(folder_path, f))]\n",
    "\n",
    "def loadAllCorpus():\n",
    "    \"\"\"\n",
    "    Esta funcion carga todos los corpus que estan en el folder Corpus Docs.\n",
    "    \"\"\"\n",
    "    corpis = ''\n",
    "    for file in corpus_name_list:\n",
    "        with open(\"./CorpusDocs/\" + file, 'r', encoding=\"utf8\") as f:\n",
    "            corpis += f.read()\n",
    "    return corpis\n",
    "\n",
    "def loadCorpus(corpus_name):\n",
    "    \"\"\"\n",
    "    Esta funcion nos sirve para cargar un corpus especifico\n",
    "    \"\"\"\n",
    "    with open(\"./CorpusDocs/\" + corpus_name, 'r', encoding=\"utf8\") as f:\n",
    "        corpus = f.read()\n",
    "    return corpus\n",
    "        \n",
    "def identifyWords(text):\n",
    "    \"\"\"\n",
    "    Esta función divide las palabras por espacio y limpia las palabras de los caracteres especiales\n",
    "    \"\"\"\n",
    "    text.replace(',',' ');\n",
    "    palabras = text.split()\n",
    "    base=[]\n",
    "    for val in palabras:\n",
    "        base.append(val.strip('(\\\\{})^?=,_-.[]'))\n",
    "    return base"
   ]
  },
  {
   "cell_type": "code",
   "execution_count": 16,
   "metadata": {},
   "outputs": [
    {
     "name": "stdout",
     "output_type": "stream",
     "text": [
      "Energía sonora\n",
      "La energía sonora (o energía acústica) es la energía que transmiten o transportan las ondas sonoras. Procede de la energía vibracional del foco sonoro y se propaga a las partículas del medio que atraviesan en forma de energía cinética (movimiento de las partículas), y de energía potencial (cambios de presión producidos en dicho medio,o presión sonora). Al irse propagando el sonido a través del medio, la energía se transmite a la velocidad de la onda, pero una parte de la energía sonora se disipa en forma de energía térmica.1 La energía acústica suele tener valores absolutos bajos, y su unidad de medida es el joule (J). Aunque puede calcularse a partir de otras magnitudes como la intensidad sonora, también se pueden calcular otras magnitudes relacionadas,como la densidad o el flujo de energía acústica.\n",
      "A partir de la definición de intensidad acústica, se puede calcular la energía acústica que atraviesa una superficie A:\n",
      "E_{{son}}=\\int _{A}\\left[\\int _{0}^{{\\Delta t}}I_{{son}}({\\mathbf  {r}},t)\\ dt\\right]dA\n",
      "Donde:\n",
      "I_{{son}} es la intensidad acústica, que es función del punto escogido y del tiempo.\n",
      "\\Delta t el intervalo de tiempo durante el que se pretende medir la energía sonora.\n",
      "Índice  [ocultar] \n",
      "1 Densidad de energía acústica\n",
      "2 Flujo de energía sonora\n",
      "3 Conservación de la energía acústica\n",
      "4 Disipación de la energía acústica\n",
      "4.1 Coeficiente de absorción acústica, α\n",
      "5 Transductores acústicos\n",
      "6 Referencias\n",
      "Densidad de energía acústica[editar · editar código]\n",
      "\n",
      "La densidad de energía acústica o energía acústica por unidad de volumen es la cantidad media de energía acústica ( ε ) que corresponde a un volumen unidad. Equivale también al cociente entre la intensidad sonora y la velocidad del sonido.2 3 La unidad de medida es el julio por metro cúbico, J/m3\n",
      "\\epsilon \\ ={{\\mbox{energia sonora}} \\over {\\mbox{volumen}}}\\ ={{\\mbox{intensidad}} \\over {\\mbox{velocidad}}}\\ =\\ {I \\over v_{{son}}}\n",
      "Para una onda sonora plana, la densidad de energía se calcula a partir de la potencia cuadrática media (PRMS), la densidad del medio (ρo) y de la velocidad (vson2), según de la fórmula:4\n",
      "\\epsilon \\ ={\\ P_{{RMS}}^{2} \\over \\rho \\,\\,v_{{son}}^{2}}\n",
      "La densidad de energía acústica total (cinética más potencial) equivale al producto de la densidad del medio por el cuadrado de la velocidad de las partículas en la dirección de propagación de la onda.5\n",
      "\\epsilon \\ =\\ {\\rho }_{0}u^{2}\n",
      "Flujo de energía sonora[editar · editar código]\n",
      "\n",
      "El flujo de energía acústica o sonora (simbolizado por q) se obtiene como la integral de la velocidad de la partícula v por el diferencial de la superficie A , de modo que solamente las porciones de la velocidad perpendiculares a la superficie son importantes.\n",
      "q=\\int {\\mathbf  {v}}\\cdot {\\mathrm  {d}}{\\mathbf  {A}}\n",
      "La unidad de medida es el vatio, (W).\n",
      "El flujo de energía sonora señala el volumen del medio de transmisión (aire) que, debido al exceso de la presión sonora, fluye por la unidad de tiempo(1 s) por una superficie A. Es la media del flujo de energía sonora para un período a través de un área especificada.\n",
      "En un medio de transmisión de densidad ρ, para ondas planas o esféricas libres que tengan una velocidad de propagación v, el flujo de energía a través del área A correspondiente a una presión sonora p es:\n",
      "J = (p2A / ρ v) cos θ\n",
      "donde θ = ángulo entre la dirección de propagación del sonido y la dirección normal (perpendicular) al área A.\n",
      "Podemos distinguir entre flujo de energía acústica transmitida, flujo de energía acústica reflejada, flujo de energía acústica disipada y flujo de energía acústica incidente.\n",
      "\n",
      "\n",
      "El micrófono convierte una señal sonora en una señal eléctrica, que luego es amplificada mediante un suministro adicional de energía eléctrica eléctrica.\n",
      "Conservación de la energía acústica[editar · editar código]\n",
      "\n",
      "Como el resto de manifestaciones de la energía, debe cumplirse el principio de conservación de la energía. Si no hay otro tipo de transformaciones de energía, la energía incidente será igual a la suma de las energías transmitida, disipada y reflejada.\n",
      "E_{{trans}}\\,+\\,E_{{disi}}\\,+\\,E_{{refle}}\\,=\\,E_{{incid}}\n",
      "Disipación de la energía acústica[editar · editar código]\n",
      "\n",
      "Al propagarse la energía acústica, una parte de la misma se disipa en el medio transmisor. En el caso del aire, esta absorción atmosférica se debe a la amortiguación que sufren las ondas sonoras por el rozamiento interno y la conductividad calorífica del aire. Esa energía disipada se trransforma en calor o energía térmica.\n",
      "Coeficiente de absorción acústica, α[editar · editar código]\n",
      "Es el cociente entre la suma de los flujos de energía acústica transmitida y disipada, y el flujo de energía acústica incidente.6\n",
      "{\\alpha }\\,=\\,{{E_{{trans}}\\,+\\,E_{{disi}}} \\over E_{{inci}}}\n",
      "También se define como el cociente entre la energía absorbida por un material y la energía que incide sobre él.7\n",
      "{\\alpha }\\,=\\,{{E_{{inci}}\\,-\\,E_{{refl}}} \\over E_{{inci}}}\n",
      "Equivale a la diferencia entre la unidad y el coeficiente de reflexión,8\n",
      "{\\alpha }\\,=\\,1\\,-\\,R\n",
      "Transductores acústicos[editar · editar código]\n",
      "\n",
      "Los transductores son dispositivos que transforman un tipo de energía en otra. Los micrófonos y altavoces son transductores acústicos que transforman la energía acústica en energía eléctrica, o viceversa.\n",
      "\n",
      "\n",
      "El altavoz convierte energía eléctrica en energía acústica.\n",
      "Un micrófono es un dispositivo que capta ondas sonoras de una determinada energía acústica y las transforma en una corriente eléctrica que reproduce\n",
      "las características de la onda sonora original. En primer lugar, una lámina elástica fina, llamada diafragma, capta las variaciones de presión del medio de transmisión y las convierte en vibraciones mecánicas. A continuación, las vibraciones mecánicas del diafragma generan una señal eléctrica de voltaje e intensidad proporcionales.9\n",
      "Un altavoz funciona a la inversa, es decir, convierte energía eléctrica en energía acústica. En primer lugar, la señal eléctrica de entrada produce fuerzas electromagnéticas que provocan el movimiento de la membrana del altavoz. Ese movimiento mueve las partículas en contacto con la membrana y produce ondas de presión en el aire o el medio de transmisión que lo rodea.10\n",
      "La potencia eléctrica del altavoz condiciona su potencia sonora y la energía acústica transmitida al medio. De ella también depende la cantidad de aire que se pone en movimiento y las diferencias de presión entre unos puntos y otros. La frecuencia de la señal eléctrica determina la frecuencia o tono del sonido producido.\n",
      "Referencias[editar · editar código]\n",
      "\n",
      "Ir a ↑ Física conceptual. Paul G. Hewitt. Pearson Educación. México, 2004. ISBN: 970-26-0447-8\n",
      "Ir a ↑ Anales de la Sociedad Científica Argentina, Volumen 148.\n",
      "Ir a ↑ Electroacústica. M.A. Saposhkov. Editorial Reverté. Barcelona, 1983. Pág. 9. ISBN:8429143505\n",
      "Ir a ↑ \"Manual de Acústica, Ruidos y Vibraciones\". Pedro Flores Pereita. Cap.II. Inasel. ISBN: 84-87579-00-0\n",
      "Ir a ↑ http://books.google.es/books?id=TdsjY8ca3S0C Waves in fluids. James Lighthill. Cambridge University Press.Cambridge, 2005. ISBN: 0-521-01045-4\n",
      "Ir a ↑ Diccionario de tecnología ferroviaria: glosario de términos ferroviarios. Mario León. Editorial Babel. Madrid, 2005. Pág. 128. ISBN: 84-7978-696-5\n",
      "Ir a ↑ Arquitectura acústica: poética y diseño. Francesc Daumal Domènech. Ediciones UPC. Barcelona, 2002. ISBN: 84-8301-638-9 Pág. 326\n",
      "Ir a ↑ Aislamiento acústico y térmico en la construcción. Claude Rougeron. Editores técnicos asociados. Barcelona, 1977. ISBN: 84-7146-097-1\n",
      "Ir a ↑ Curso de Acústica. Grupo de Acústica. Universidad del País Vasco.\n",
      "Ir a ↑ Altavoces. Curso de Acústica. Grupo de Acústica. Universidad del País Vasco.\n"
     ]
    }
   ],
   "source": [
    "texts = loadAllCorpus()\n",
    "text = loadCorpus('acustica (2).txt')\n",
    "print(text)"
   ]
  },
  {
   "cell_type": "code",
   "execution_count": 140,
   "metadata": {},
   "outputs": [
    {
     "name": "stdout",
     "output_type": "stream",
     "text": [
      "Referencias\n"
     ]
    }
   ],
   "source": [
    "base = identifyWords(text)\n",
    "print(base[224])"
   ]
  },
  {
   "cell_type": "code",
   "execution_count": null,
   "metadata": {},
   "outputs": [],
   "source": []
  },
  {
   "cell_type": "code",
   "execution_count": null,
   "metadata": {
    "collapsed": true
   },
   "outputs": [],
   "source": []
  }
 ],
 "metadata": {
  "kernelspec": {
   "display_name": "Python 3",
   "language": "python",
   "name": "python3"
  },
  "language_info": {
   "codemirror_mode": {
    "name": "ipython",
    "version": 3
   },
   "file_extension": ".py",
   "mimetype": "text/x-python",
   "name": "python",
   "nbconvert_exporter": "python",
   "pygments_lexer": "ipython3",
   "version": "3.5.4"
  }
 },
 "nbformat": 4,
 "nbformat_minor": 2
}
