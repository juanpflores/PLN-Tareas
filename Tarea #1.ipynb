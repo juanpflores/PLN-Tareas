{
 "cells": [
  {
   "cell_type": "markdown",
   "metadata": {
    "deletable": true,
    "editable": true
   },
   "source": [
    "# Tarea 1\n",
    "Dado el corpus proporcionado, obtener la curva de Zipf de las palabras en\n",
    "escala logaritmica.\n",
    "Pasos:\n",
    "\n",
    "1. Limpiar el corpus: eliminar signos de puntuacion, de interrogacion, admiracion y elementos no lexicos.\n",
    "\n",
    "2. Aplicar un algoritmo de Stemming a los tokens limpios.\n",
    "3. Obtener las frecuencias de los tipos en el corpus.\n",
    "4. Ordenar por el rango estadistico de mayor a menor.\n",
    "5. Graficar el diagrama de dispersion rango-frecuencia en escala logarıtmica."
   ]
  },
  {
   "cell_type": "code",
   "execution_count": 1,
   "metadata": {
    "collapsed": true,
    "deletable": true,
    "editable": true
   },
   "outputs": [],
   "source": [
    "# Importamos las librerias\n",
    "\n",
    "# Usamos os para cargar los libros\n",
    "from os import listdir,getcwd\n",
    "from os.path import isfile, join\n",
    "import re\n"
   ]
  },
  {
   "cell_type": "markdown",
   "metadata": {
    "collapsed": true,
    "deletable": true,
    "editable": true
   },
   "source": [
    "## Importamos el corpus\n",
    "Lo primero que hacemos es importar el corpus al notebook para que podamos utilizarlos. En este caso definimos dos formas de cargar el corpus, ya sea por documento o cargando todos los documentos del folder."
   ]
  },
  {
   "cell_type": "code",
   "execution_count": 2,
   "metadata": {
    "collapsed": true,
    "deletable": true,
    "editable": true
   },
   "outputs": [],
   "source": [
    "\n",
    "# Obtenemos el path del folder donde se almacenan los corpus\n",
    "folder_path = (getcwd() + r\"\\CorpusDocs\")\n",
    "\n",
    "# Los almacenamos en una lista donde se almacenan los nombres de los archivos.\n",
    "# Esto es en caso de que usemos todos los corpus.\n",
    "corpus_name_list = [f for f in listdir(folder_path) if isfile(join(folder_path, f))]\n",
    "\n",
    "def loadAllCorpus():\n",
    "    \"\"\"\n",
    "    Esta funcion carga todos los corpus que estan en el folder Corpus Docs.\n",
    "    \"\"\"\n",
    "    corpis = ''\n",
    "    for file in corpus_name_list:\n",
    "        with open(\"./CorpusDocs/\" + file, 'r', encoding=\"utf8\") as f:\n",
    "            corpis += f.read()\n",
    "    return corpis\n",
    "\n",
    "def loadCorpus(corpus_name):\n",
    "    \"\"\"\n",
    "    Esta funcion nos sirve para cargar un corpus especifico\n",
    "    \"\"\"\n",
    "    with open(\"./CorpusDocs/\" + corpus_name, 'r', encoding=\"utf8\") as f:\n",
    "        corpus = f.read()\n",
    "    return corpus\n",
    "        "
   ]
  },
  {
   "cell_type": "code",
   "execution_count": 3,
   "metadata": {
    "collapsed": true
   },
   "outputs": [],
   "source": [
    "# Cargamos el corpus.\n",
    "\n",
    "# corpus = loadAllCorpus()\n",
    "corpus = loadCorpus('acustica (2).txt')"
   ]
  },
  {
   "cell_type": "markdown",
   "metadata": {},
   "source": [
    "## Limpieza del Texto\n",
    "Separamos las palabras de las oraciones para poder trabajar con ellas individualmente"
   ]
  },
  {
   "cell_type": "code",
   "execution_count": 4,
   "metadata": {
    "collapsed": false
   },
   "outputs": [
    {
     "name": "stdout",
     "output_type": "stream",
     "text": [
      "['Energía', 'sonora', 'La', 'energía', 'sonora', '(o', 'energía', 'acústica)', 'es', 'la']\n"
     ]
    }
   ],
   "source": [
    "words = corpus.split()\n",
    "print(words[:10])"
   ]
  },
  {
   "cell_type": "markdown",
   "metadata": {},
   "source": [
    "Eliminamos la puntuación del documento, acentos y normalizamos el texto en minusculas. Para hacer la eliminación de los símbolos de puntuación utilziamos una tabla de traducción para optimizar la velocidad de procesamiento. Tambien fue necesario extender la tabla de símbolos para que incluyera algunos símbolos latinos que faltaban.\n",
    "\n",
    "Para eliminar acentos usamos la libreria unidecode que se tiene que instalar adicionalmente: `pip install unidecode`"
   ]
  },
  {
   "cell_type": "code",
   "execution_count": 35,
   "metadata": {
    "collapsed": false
   },
   "outputs": [
    {
     "name": "stdout",
     "output_type": "stream",
     "text": [
      "!\"#$%&'()*+,-./:;<=>?@[\\]^_`{|}~\n"
     ]
    }
   ],
   "source": [
    "import string\n",
    "import unidecode\n",
    "\n",
    "print(string.punctuation)"
   ]
  },
  {
   "cell_type": "code",
   "execution_count": 40,
   "metadata": {
    "collapsed": false
   },
   "outputs": [],
   "source": [
    "lat_punctuation = string.punctuation+'¿¡'\n",
    "\n",
    "table = str.maketrans('', '', lat_punctuation)"
   ]
  },
  {
   "cell_type": "code",
   "execution_count": 41,
   "metadata": {
    "collapsed": false
   },
   "outputs": [
    {
     "data": {
      "text/plain": [
       "['energia',\n",
       " 'sonora',\n",
       " 'la',\n",
       " 'energia',\n",
       " 'sonora',\n",
       " 'o',\n",
       " 'energia',\n",
       " 'acustica',\n",
       " 'es',\n",
       " 'la']"
      ]
     },
     "execution_count": 41,
     "metadata": {},
     "output_type": "execute_result"
    }
   ],
   "source": [
    "clean_words = []\n",
    "\n",
    "for word in words:\n",
    "    word = word.translate(table)      # Quitamos simbolos de puntuacion\n",
    "    word = word.lower()               # Minusculas\n",
    "    word = unidecode.unidecode(word)  # Quitamos acentos.\n",
    "    clean_words.append(word)\n",
    "\n",
    "clean_words[:10]"
   ]
  },
  {
   "cell_type": "markdown",
   "metadata": {},
   "source": [
    "## Stemming de Palabras\n",
    "Para hacer el stemming de las palabras usamos NLTK. Para esto hay que instalar NLTK: \n",
    "\n",
    "Lo primero que hacemos es definir un stemmer. En este caso usaremos [Snowball Stemmer](http://snowball.tartarus.org/texts/introduction.html)."
   ]
  },
  {
   "cell_type": "code",
   "execution_count": 42,
   "metadata": {
    "collapsed": true
   },
   "outputs": [],
   "source": [
    "from nltk.stem import SnowballStemmer\n",
    "stemmer = SnowballStemmer('spanish')"
   ]
  },
  {
   "cell_type": "code",
   "execution_count": 48,
   "metadata": {
    "collapsed": false
   },
   "outputs": [
    {
     "name": "stdout",
     "output_type": "stream",
     "text": [
      "['energi', 'sonor', 'la', 'energi', 'sonor', 'o', 'energi', 'acust', 'es', 'la']\n"
     ]
    }
   ],
   "source": [
    "stemmed_text = []\n",
    "for word in clean_words:\n",
    "    stemmed_text.append(stemmer.stem(word))\n",
    "    \n",
    "print(stemmed_text[:10])"
   ]
  },
  {
   "cell_type": "markdown",
   "metadata": {},
   "source": [
    "## Frecuencia de los tipos\n",
    "Para medir la frecuencia de los tipo utilizaremos la funcion `FDist` de NLTK que hemos instalado previamente."
   ]
  },
  {
   "cell_type": "code",
   "execution_count": 49,
   "metadata": {
    "collapsed": true
   },
   "outputs": [],
   "source": [
    "from nltk import FreqDist"
   ]
  },
  {
   "cell_type": "code",
   "execution_count": 50,
   "metadata": {
    "collapsed": true
   },
   "outputs": [],
   "source": [
    "fdist = FreqDist(stemmed_text)"
   ]
  },
  {
   "cell_type": "code",
   "execution_count": 52,
   "metadata": {
    "collapsed": false,
    "scrolled": false
   },
   "outputs": [
    {
     "data": {
      "text/plain": [
       "[('de', 95),\n",
       " ('la', 72),\n",
       " ('energi', 57),\n",
       " ('acust', 37),\n",
       " ('a', 33),\n",
       " ('el', 27),\n",
       " ('y', 24),\n",
       " ('sonor', 22),\n",
       " ('del', 21),\n",
       " ('en', 21),\n",
       " ('que', 19),\n",
       " ('las', 14),\n",
       " ('fluj', 13),\n",
       " ('se', 13),\n",
       " ('es', 13),\n",
       " ('medi', 13),\n",
       " ('una', 13),\n",
       " ('', 12),\n",
       " ('electr', 11),\n",
       " ('|', 10),\n",
       " ('un', 10),\n",
       " ('ir', 10),\n",
       " ('o', 10),\n",
       " ('densid', 9),\n",
       " ('por', 9)]"
      ]
     },
     "execution_count": 52,
     "metadata": {},
     "output_type": "execute_result"
    }
   ],
   "source": [
    "fdist.most_common(25)"
   ]
  },
  {
   "cell_type": "code",
   "execution_count": 58,
   "metadata": {
    "collapsed": false
   },
   "outputs": [
    {
     "data": {
      "image/png": "[encoded data removed]",
      "text/plain": [
       "<matplotlib.figure.Figure at 0x1775e90eda0>"
      ]
     },
     "metadata": {},
     "output_type": "display_data"
    },
    {
     "data": {
      "image/png": "[encoded data removed]",
      "text/plain": [
       "<matplotlib.figure.Figure at 0x1775e886d68>"
      ]
     },
     "metadata": {},
     "output_type": "display_data"
    }
   ],
   "source": [
    "fdist.plot(25)\n",
    "fdist.plot(50, cumulative=True)"
   ]
  },
  {
   "cell_type": "code",
   "execution_count": null,
   "metadata": {
    "collapsed": true
   },
   "outputs": [],
   "source": []
  },
  {
   "cell_type": "code",
   "execution_count": null,
   "metadata": {
    "collapsed": true,
    "deletable": true,
    "editable": true
   },
   "outputs": [],
   "source": []
  },
  {
   "cell_type": "code",
   "execution_count": null,
   "metadata": {
    "collapsed": true
   },
   "outputs": [],
   "source": [
    "def identifyWords(text):\n",
    "    \"\"\"\n",
    "    Esta función divide las palabras por espacio y limpia las palabras de los caracteres especiales\n",
    "    \"\"\"\n",
    "    vocales = {\n",
    "        'á': 'a',\n",
    "        'é': 'e',\n",
    "        'í': 'i',\n",
    "        'ó': 'o',\n",
    "        'ú': 'u'\n",
    "        }\n",
    "    texto2 = ''\n",
    "    for val in text.lower():\n",
    "        if(val == '(' or val ==')' or val == '\\\\' or val =='{' or val =='}'  or val == '?' or val =='=' or val == ',' \n",
    "            or val == '_' or val == '-' or val == '.' or val =='[' or val ==']' or val ==':' or val =='0' or val == '1' \n",
    "            or val == '2' or val == '3' or val == '4' or val =='5' or val =='6' or val =='7' or val =='8' or val =='9' \n",
    "            or val =='α' or val =='/' or val =='ρ' or val =='^' or val == 'θ' or val == '+' or val == '-' or val == '↑'\n",
    "            or val == '·' or val == '\"'):\n",
    "                val = ' '\n",
    "        else:\n",
    "            if(val == 'á' or val == 'é' or val == 'í' or val == 'ó' or val == 'ú'):\n",
    "                val = vocales[val]\n",
    "        texto2 = texto2 + val\n",
    "    base = texto2.split()\n",
    "    return base"
   ]
  },
  {
   "cell_type": "code",
   "execution_count": null,
   "metadata": {
    "collapsed": false,
    "deletable": true,
    "editable": true
   },
   "outputs": [],
   "source": [
    "base = identifyWords(text)\n",
    "print(base[10])"
   ]
  },
  {
   "cell_type": "code",
   "execution_count": null,
   "metadata": {
    "collapsed": true,
    "deletable": true,
    "editable": true
   },
   "outputs": [],
   "source": []
  },
  {
   "cell_type": "code",
   "execution_count": null,
   "metadata": {
    "collapsed": true,
    "deletable": true,
    "editable": true
   },
   "outputs": [],
   "source": []
  }
 ],
 "metadata": {
  "kernelspec": {
   "display_name": "Python 3",
   "language": "python",
   "name": "python3"
  },
  "language_info": {
   "codemirror_mode": {
    "name": "ipython",
    "version": 3
   },
   "file_extension": ".py",
   "mimetype": "text/x-python",
   "name": "python",
   "nbconvert_exporter": "python",
   "pygments_lexer": "ipython3",
   "version": "3.5.2"
  }
 },
 "nbformat": 4,
 "nbformat_minor": 2
}
