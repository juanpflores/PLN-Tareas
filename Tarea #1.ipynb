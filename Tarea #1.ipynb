{
 "cells": [
  {
   "cell_type": "markdown",
   "metadata": {
    "deletable": true,
    "editable": true
   },
   "source": [
    "# Tarea 1\n",
    "Dado el corpus proporcionado, obtener la curva de Zipf de las palabras en\n",
    "escala logaritmica.\n",
    "Pasos:\n",
    "\n",
    "1. Limpiar el corpus: eliminar signos de puntuacion, de interrogacion, admiracion y elementos no lexicos.\n",
    "\n",
    "2. Aplicar un algoritmo de Stemming a los tokens limpios.\n",
    "3. Obtener las frecuencias de los tipos en el corpus.\n",
    "4. Ordenar por el rango estadistico de mayor a menor.\n",
    "5. Graficar el diagrama de dispersion rango-frecuencia en escala logarıtmica."
   ]
  },
  {
   "cell_type": "markdown",
   "metadata": {
    "collapsed": true,
    "deletable": true,
    "editable": true
   },
   "source": [
    "## Importamos el corpus\n",
    "Lo primero que hacemos es importar el corpus al notebook para que podamos utilizarlos."
   ]
  },
  {
   "cell_type": "code",
   "execution_count": null,
   "metadata": {
    "collapsed": true,
    "deletable": true,
    "editable": true
   },
   "outputs": [],
   "source": []
  }
 ],
 "metadata": {
  "kernelspec": {
   "display_name": "Python 3",
   "language": "python",
   "name": "python3"
  },
  "language_info": {
   "codemirror_mode": {
    "name": "ipython",
    "version": 3
   },
   "file_extension": ".py",
   "mimetype": "text/x-python",
   "name": "python",
   "nbconvert_exporter": "python",
   "pygments_lexer": "ipython3",
   "version": "3.5.2"
  }
 },
 "nbformat": 4,
 "nbformat_minor": 2
}
