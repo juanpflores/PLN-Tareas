{
 "cells": [
  {
   "cell_type": "markdown",
   "metadata": {},
   "source": [
    "# Tarea 1\n",
    "Dado el corpus proporcionado, obtener la curva de Zipf de las palabras en\n",
    "escala logaritmica.\n",
    "Pasos:\n",
    "\n",
    "1. Limpiar el corpus: eliminar signos de puntuacion, de interrogacion, admiracion y elementos no lexicos.\n",
    "\n",
    "2. Aplicar un algoritmo de Stemming a los tokens limpios.\n",
    "3. Obtener las frecuencias de los tipos en el corpus.\n",
    "4. Ordenar por el rango estadistico de mayor a menor.\n",
    "5. Graficar el diagrama de dispersion rango-frecuencia en escala logarıtmica."
   ]
  },
  {
   "cell_type": "code",
   "execution_count": 1,
   "metadata": {},
   "outputs": [],
   "source": [
    "# Importamos las librerias\n",
    "\n",
    "# Usamos os para cargar los libros\n",
    "from os import listdir,getcwd\n",
    "from os.path import isfile, join\n",
    "import re\n"
   ]
  },
  {
   "cell_type": "markdown",
   "metadata": {
    "collapsed": true
   },
   "source": [
    "## Importamos el corpus\n",
    "Lo primero que hacemos es importar el corpus al notebook para que podamos utilizarlos. En este caso definimos dos formas de cargar el corpus, ya sea por documento o cargando todos los documentos del folder."
   ]
  },
  {
   "cell_type": "code",
   "execution_count": 2,
   "metadata": {},
   "outputs": [],
   "source": [
    "\n",
    "# Obtenemos el path del folder donde se almacenan los corpus\n",
    "folder_path = (getcwd() + r\"\\CorpusDocs\")\n",
    "\n",
    "# Los almacenamos en una lista donde se almacenan los nombres de los archivos.\n",
    "# Esto es en caso de que usemos todos los corpus.\n",
    "corpus_name_list = [f for f in listdir(folder_path) if isfile(join(folder_path, f))]\n",
    "\n",
    "def loadAllCorpus():\n",
    "    \"\"\"\n",
    "    Esta funcion carga todos los corpus que estan en el folder Corpus Docs.\n",
    "    \"\"\"\n",
    "    corpis = ''\n",
    "    for file in corpus_name_list:\n",
    "        with open(\"./CorpusDocs/\" + file, 'r', encoding=\"utf8\") as f:\n",
    "            corpis += f.read()\n",
    "    return corpis\n",
    "\n",
    "def loadCorpus(corpus_name):\n",
    "    \"\"\"\n",
    "    Esta funcion nos sirve para cargar un corpus especifico\n",
    "    \"\"\"\n",
    "    with open(\"./CorpusDocs/\" + corpus_name, 'r', encoding=\"utf8\") as f:\n",
    "        corpus = f.read()\n",
    "    return corpus\n",
    "        "
   ]
  },
  {
   "cell_type": "code",
   "execution_count": 3,
   "metadata": {},
   "outputs": [],
   "source": [
    "# Cargamos el corpus.\n",
    "\n",
    "corpus = loadAllCorpus()\n",
    "#corpus = loadCorpus('acustica (2).txt')"
   ]
  },
  {
   "cell_type": "markdown",
   "metadata": {},
   "source": [
    "## Limpieza del Texto\n",
    "Separamos las palabras de las oraciones para poder trabajar con ellas individualmente"
   ]
  },
  {
   "cell_type": "code",
   "execution_count": 4,
   "metadata": {},
   "outputs": [
    {
     "name": "stdout",
     "output_type": "stream",
     "text": [
      "['Onda', 'sonora', 'Ondes', 'compression', '2d', '20', 'petit.gif', 'Una', 'onda', 'sonora']\n"
     ]
    }
   ],
   "source": [
    "words = corpus.split()\n",
    "print(words[:10])"
   ]
  },
  {
   "cell_type": "markdown",
   "metadata": {},
   "source": [
    "Eliminamos la puntuación del documento, acentos y normalizamos el texto en minusculas. Para hacer la eliminación de los símbolos de puntuación utilziamos una tabla de traducción para optimizar la velocidad de procesamiento. Tambien fue necesario extender la tabla de símbolos para que incluyera algunos símbolos latinos que faltaban.\n",
    "\n",
    "Para eliminar acentos usamos la libreria unidecode que se tiene que instalar adicionalmente: `pip install unidecode`"
   ]
  },
  {
   "cell_type": "code",
   "execution_count": 6,
   "metadata": {},
   "outputs": [
    {
     "name": "stdout",
     "output_type": "stream",
     "text": [
      "!\"#$%&'()*+,-./:;<=>?@[\\]^_`{|}~\n"
     ]
    }
   ],
   "source": [
    "import string\n",
    "import unidecode\n",
    "\n",
    "print(string.punctuation)"
   ]
  },
  {
   "cell_type": "code",
   "execution_count": 47,
   "metadata": {},
   "outputs": [],
   "source": [
    "lat_punctuation = string.punctuation+'¿¡1234567890'\n",
    "\n",
    "table = str.maketrans('', '', lat_punctuation)"
   ]
  },
  {
   "cell_type": "code",
   "execution_count": 48,
   "metadata": {},
   "outputs": [
    {
     "data": {
      "text/plain": [
       "['onda',\n",
       " 'sonora',\n",
       " 'ondes',\n",
       " 'compression',\n",
       " 'd',\n",
       " '',\n",
       " 'petitgif',\n",
       " 'una',\n",
       " 'onda',\n",
       " 'sonora']"
      ]
     },
     "execution_count": 48,
     "metadata": {},
     "output_type": "execute_result"
    }
   ],
   "source": [
    "clean_words = []\n",
    "\n",
    "for word in words:\n",
    "    word = word.translate(table)      # Quitamos simbolos de puntuacion\n",
    "    word = word.lower()               # Minusculas\n",
    "    word = unidecode.unidecode(word)  # Quitamos acentos.\n",
    "    clean_words.append(word)\n",
    "\n",
    "clean_words[:10]"
   ]
  },
  {
   "cell_type": "markdown",
   "metadata": {},
   "source": [
    "## Stemming de Palabras\n",
    "Para hacer el stemming de las palabras usamos NLTK. Para esto hay que instalar NLTK: \n",
    "\n",
    "Lo primero que hacemos es definir un stemmer. En este caso usaremos [Snowball Stemmer](http://snowball.tartarus.org/texts/introduction.html)."
   ]
  },
  {
   "cell_type": "code",
   "execution_count": 50,
   "metadata": {},
   "outputs": [],
   "source": [
    "from nltk.stem import SnowballStemmer\n",
    "stemmer = SnowballStemmer('spanish')"
   ]
  },
  {
   "cell_type": "code",
   "execution_count": 51,
   "metadata": {},
   "outputs": [
    {
     "name": "stdout",
     "output_type": "stream",
     "text": [
      "['onda', 'sonor', 'ondes', 'compression', 'd', '', 'petitgif', 'una', 'onda', 'sonor']\n"
     ]
    }
   ],
   "source": [
    "stemmed_text = []\n",
    "for word in clean_words:\n",
    "    stemmed_text.append(stemmer.stem(word))\n",
    "    \n",
    "print(stemmed_text[:10])"
   ]
  },
  {
   "cell_type": "markdown",
   "metadata": {},
   "source": [
    "## Frecuencia de los tipos\n",
    "Para medir la frecuencia de los tipo utilizaremos la funcion `FDist` de NLTK que hemos instalado previamente."
   ]
  },
  {
   "cell_type": "code",
   "execution_count": 121,
   "metadata": {},
   "outputs": [],
   "source": [
    "from nltk import FreqDist"
   ]
  },
  {
   "cell_type": "code",
   "execution_count": 126,
   "metadata": {},
   "outputs": [
    {
     "data": {
      "text/plain": [
       "[('de', 7457),\n",
       " ('la', 4727),\n",
       " ('en', 3130),\n",
       " ('y', 2727),\n",
       " ('el', 2665),\n",
       " ('que', 2225),\n",
       " ('', 2145),\n",
       " ('a', 1833),\n",
       " ('los', 1491),\n",
       " ('se', 1449),\n",
       " ('las', 1179),\n",
       " ('del', 1133),\n",
       " ('un', 1033),\n",
       " ('por', 1005),\n",
       " ('una', 954),\n",
       " ('es', 910),\n",
       " ('con', 765),\n",
       " ('par', 717),\n",
       " ('com', 674),\n",
       " ('o', 603),\n",
       " ('su', 596),\n",
       " ('al', 462),\n",
       " ('mas', 423),\n",
       " ('no', 417),\n",
       " ('pued', 339)]"
      ]
     },
     "execution_count": 126,
     "metadata": {},
     "output_type": "execute_result"
    }
   ],
   "source": [
    "fdist = FreqDist(stemmed_text)\n",
    "fdist.most_common(25)"
   ]
  },
  {
   "cell_type": "code",
   "execution_count": 116,
   "metadata": {
    "scrolled": false
   },
   "outputs": [
    {
     "data": {
      "image/png": "[encoded data removed]",
      "text/plain": [
       "<Figure size 432x288 with 1 Axes>"
      ]
     },
     "metadata": {
      "needs_background": "light"
     },
     "output_type": "display_data"
    },
    {
     "data": {
      "image/png": "[encoded data removed]",
      "text/plain": [
       "<Figure size 432x288 with 1 Axes>"
      ]
     },
     "metadata": {
      "needs_background": "light"
     },
     "output_type": "display_data"
    }
   ],
   "source": [
    "fdist.plot(100)\n",
    "fdist.plot(50, cumulative=True)"
   ]
  },
  {
   "cell_type": "markdown",
   "metadata": {},
   "source": [
    "## Frecuencia de los tipos en forma logaritmica\n",
    "Se aplicará el logaritmo base 10 a cada una de las frecuencias ordenadas de mayor a menor."
   ]
  },
  {
   "cell_type": "code",
   "execution_count": 124,
   "metadata": {},
   "outputs": [],
   "source": [
    "import numpy as np\n",
    "import matplotlib.pyplot as plt\n",
    "from scipy.optimize import minimize as min\n",
    "logSamples = np.log(range(1,len(fdist)+1))\n",
    "logCounts = np.log(sorted(fdist.values(), reverse=True))"
   ]
  },
  {
   "cell_type": "code",
   "execution_count": 120,
   "metadata": {},
   "outputs": [
    {
     "data": {
      "image/png": "[encoded data removed]",
      "text/plain": [
       "<Figure size 432x288 with 1 Axes>"
      ]
     },
     "metadata": {
      "needs_background": "light"
     },
     "output_type": "display_data"
    }
   ],
   "source": [
    "plt.scatter(logSamples,logCounts)\n",
    "plt.xlabel(\"Samples\")\n",
    "plt.ylabel(\"Log(Counts)\")\n",
    "plt.show()"
   ]
  },
  {
   "cell_type": "markdown",
   "metadata": {},
   "source": [
    "## Aproximación de una recta (dependencia lineal)\n",
    "Para generar un modelo de probabilidad condicional, es necesario que las variables sean dependientes entre si, es por ello que se necesitará generar un modelo de dependencia lineal.\n",
    "Debido a esto, se debera obtener el Error Cuadratico Mínimo para aplicarlo en la ecuación de la recta:\n",
    "\n",
    "\n",
    "                                            y = mx + b\n",
    "                                        \n",
    "donde:\n",
    "\n",
    "    b = Valor máximo de frecuencia\n",
    "    m = Error cuadrático mínimo\n",
    "    x = Frecuencias"
   ]
  },
  {
   "cell_type": "code",
   "execution_count": 139,
   "metadata": {},
   "outputs": [
    {
     "data": {
      "image/png": "[encoded data removed]",
      "text/plain": [
       "<Figure size 432x288 with 1 Axes>"
      ]
     },
     "metadata": {
      "needs_background": "light"
     },
     "output_type": "display_data"
    }
   ],
   "source": [
    "errorCuad = lambda q: sum(((q*logSamples + logCounts[0])-logCounts)**2)\n",
    "slope = min(errorCuad, 1).x[0]\n",
    "plt.scatter(logSamples,logCounts)\n",
    "plt.scatter(logSamples,slope*logSamples+ logCounts[0])\n",
    "plt.show()"
   ]
  },
  {
   "cell_type": "markdown",
   "metadata": {},
   "source": [
    "# Realizado por:\n",
    "- Bustos Ramírez Luis Enrique\n",
    "- Flores Cortés Juan Pablo\n"
   ]
  }
 ],
 "metadata": {
  "kernelspec": {
   "display_name": "Python 3",
   "language": "python",
   "name": "python3"
  },
  "language_info": {
   "codemirror_mode": {
    "name": "ipython",
    "version": 3
   },
   "file_extension": ".py",
   "mimetype": "text/x-python",
   "name": "python",
   "nbconvert_exporter": "python",
   "pygments_lexer": "ipython3",
   "version": "3.5.4"
  }
 },
 "nbformat": 4,
 "nbformat_minor": 2
}
