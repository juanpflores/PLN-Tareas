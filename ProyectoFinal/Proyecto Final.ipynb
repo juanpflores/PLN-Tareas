{
 "cells": [
  {
   "cell_type": "markdown",
   "metadata": {},
   "source": [
    "# Proyecto Final: Procesamiento de Lenguaje Natural\n",
    "\n",
    "## Definición del proyecto\n",
    "\n",
    "El objetivo de este proyecto es utilizar una Red Neuronal Recurrente usando LSTM (Long-Short Term Memory) para hacer traducción de Inglés a Italiano. En los datos de entrenamiento que se nos proporcionan tenemos un par de frases; la frase en inglés y su correspondiente traducción a italiano. \n",
    "\n",
    "Para lograr esto, utilizaremos una red \"Sequence to Sequence\" en el que tendremos dos redes neuronales recurrentes para transformar una secuencia en otra; la primera nos servira como un \"Encoder\" para transofrmar una entrada de text a un vector mientras que la segunda nos servira para poder\n",
    "\n",
    "![Red Sequence-Sequence](./imagenes/encoder-decoder.png)\n",
    "\n",
    "## Requerimientos\n",
    "\n",
    "Para poder realizar este proyecto decidimos usar PyTorch para poder utilizar tensores y aprovechar el GPU de la computadora para el procesamiento (algo que con numpy no se puede hacer). La versión de Pytorch que utilizamos para este proyecto tiene las siguientes caracteristicas:\n",
    " - Version 1.1\n",
    " - Windows 10\n",
    " - Cuda 10.1\n",
    " - Python 3.7\n",
    " - Conda"
   ]
  },
  {
   "cell_type": "code",
   "execution_count": 1,
   "metadata": {},
   "outputs": [],
   "source": [
    "#conda install pytorch torchvision cudatoolkit=10.0 -c pytorch"
   ]
  },
  {
   "cell_type": "markdown",
   "metadata": {},
   "source": [
    "## Imports\n",
    "\n",
    "Importamos todas la bibliotecas que vamos a estar utilizando. En este proeycto utilizaremos algunas librerias generales como lo son `string` y `re` que son de uso común durante cualquier proyecto de procesamiento de texto."
   ]
  },
  {
   "cell_type": "code",
   "execution_count": 2,
   "metadata": {},
   "outputs": [],
   "source": [
    "from __future__ import unicode_literals, print_function, division\n",
    "from io import open\n",
    "import unicodedata\n",
    "import string\n",
    "import re\n",
    "import random\n",
    "\n",
    "# Cargamos torch\n",
    "import torch\n",
    "# Cargamos la biblioteca de redes neuronales de pytorch\n",
    "import torch.nn as nn\n",
    "# Biblioteca de optimización de algoritmos\n",
    "from torch import optim\n",
    "# Funciones para entrenar la red neuronal.\n",
    "import torch.nn.functional as F\n",
    "\n",
    "# Buscamos si el dispositivo donde se ejecuita el algoritmo tiene cuda instalado\n",
    "# en caso de que no lo tenga usará el CPU para el entrenamiento.\n",
    "device = torch.device(\"cuda\" if torch.cuda.is_available() else \"cpu\")"
   ]
  },
  {
   "cell_type": "markdown",
   "metadata": {},
   "source": [
    "## Carga de texto\n",
    "En este proyecto el proceso de carga de texto se realiza utilizando pares de frases la primera en inglés seguido de un tab y despues en italiano.\n",
    "\n",
    "```\n",
    "we therefore respect whatever parliament may decide \tquindi noi rispettiamo le eventuali decisioni in materia del parlamento\n",
    "\n",
    "```\n",
    "\n",
    "Como vimos en clase la primera etapa será construir nuestros vectores one hot de las palabras que contiene el corpus de entrenamiento. Para esto generaremos un indice unico para cada una de las palabras el cual utilizará para ubicarse dentro del vector. \n",
    "\n",
    "![One Hot](./imagenes/onehot.png)\n",
    "\n",
    "Lo primero que haremos sera crear todas las funciones para limpiar los datos. Primero, pasamos de Unicode a ASCII y después normalizamos el texto quitando los simbolos especiales."
   ]
  },
  {
   "cell_type": "code",
   "execution_count": 3,
   "metadata": {},
   "outputs": [],
   "source": [
    "def unicodeToAscii(w):\n",
    "    \"\"\"Transforma la palabra de entrada de Unicode a Ascii \n",
    "    basado en https://stackoverflow.com/a/518232/2809427\"\"\"\n",
    "    \n",
    "    return ''.join(\n",
    "        c for c in unicodedata.normalize('NFD', w)\n",
    "        if unicodedata.category(c) != 'Mn'\n",
    "    )\n",
    "\n",
    "def normalizeStr(s):\n",
    "    \"\"\"Elimina signos de puntuación y transforma el string a minúsculas\"\"\"\n",
    "    \n",
    "    s = unicodeToAscii(s.lower().strip())\n",
    "    s = re.sub(r\"([.!?])\", r\" \\1\", s)\n",
    "    s = re.sub(r\"[^a-zA-Z.!?]+\", r\" \", s)\n",
    "    return s"
   ]
  },
  {
   "cell_type": "code",
   "execution_count": 4,
   "metadata": {},
   "outputs": [],
   "source": [
    "MAX_LENGTH = 100\n",
    "\n",
    "def filterPair(p):\n",
    "    return len(p[0].split(' ')) < MAX_LENGTH and \\\n",
    "        len(p[1].split(' ')) < MAX_LENGTH\n",
    "\n",
    "\n",
    "def filterPairs(pairs):\n",
    "    return [pair for pair in pairs if filterPair(pair)]"
   ]
  },
  {
   "cell_type": "markdown",
   "metadata": {},
   "source": [
    "Desarrollamos una clase llamada Lenguaje, el cual contendrá el las funciones necesarias para pasar de la palabra al indíce y del indice de regreso a la palabra utilizando diccionarios. "
   ]
  },
  {
   "cell_type": "code",
   "execution_count": 5,
   "metadata": {},
   "outputs": [],
   "source": [
    "#Defininimos lot tokens de inciio de oracion y de fin de oracion\n",
    "BOS = 0\n",
    "EOS = 1\n",
    "\n",
    "class Language:\n",
    "    \"\"\"\n",
    "    Esta clase sirve para agregar las palabras al diccionario y asignarles un \n",
    "    indice. Cuenta con las funciones necesarias tanto para pasar de un indice\n",
    "    a una palabra como de una palabara a un indice.\n",
    "    \"\"\"\n",
    "    def __init__(self, name):\n",
    "        \"\"\"Inicializa las variables locales de la clase que son los diccionarios en los \n",
    "        que se almacena la informacion de las palabras\"\"\"\n",
    "        self.name = name\n",
    "        self.word2index={} # Nos servirá para convertir de una palabra a un índice\n",
    "        self.word2count={} # Nos servira para contar la frecuencia en que aparece una palabra\n",
    "        self.index2word={} # Nos servirá para pasar de un índice a una palabra\n",
    "        self.total = 2     # Noss servirá para contar el total de palabras únicas\n",
    "        \n",
    "    def procSentences(self, sentence):\n",
    "        \"\"\"Procesa una oración para ser agregada a los diccionarios del lenguaje\"\"\"\n",
    "        for word in sentence.split(' '):\n",
    "            self.addWord(word)\n",
    "            \n",
    "    def addWord(self, word):\n",
    "        \"\"\"Agrega las palabras a los diccionarios y actualiza los contadores\"\"\"\n",
    "        if word not in self.word2index:\n",
    "            self.word2index[word] = self.total\n",
    "            self.word2count[word] = 1 \n",
    "            self.index2word[self.total] = word\n",
    "            self.total += 1\n",
    "        \n",
    "        else:\n",
    "            self.word2count[word] += 1  \n",
    "        "
   ]
  },
  {
   "cell_type": "markdown",
   "metadata": {},
   "source": [
    "Hacemos la función que nos permitirá leer las frases que vienen en el archivo de entrenamiento y las almacene."
   ]
  },
  {
   "cell_type": "code",
   "execution_count": 6,
   "metadata": {},
   "outputs": [],
   "source": [
    "def readFile(lang1, lang2, reverse=False):\n",
    "    \"\"\"Lee el archivo de entrenamiento del traductor, lo limpia y asigna una clase Language\n",
    "    para almacenar los datos del lenguaje. Se permite revertir el orden para realizar pruebas\n",
    "    traduciendo de manera inversa el lenguaje.\n",
    "    \"\"\"\n",
    "    \n",
    "    print(\"Loading Files...\")\n",
    "\n",
    "    # Abrimos el archivo y lo dividmos por salto de linea para obtener\n",
    "    # los pares en una sola linea.\n",
    "    lines = open('./corpus/data3.test', encoding='utf-8').read().strip().split('\\n')\n",
    "    #print(\"Found {} lines\".format(len(lines)))\n",
    "\n",
    "    # Dividimos los pares en una linea en su lenguaje de entrada y lenguaje de salida\n",
    "    pairs = [[normalizeStr(s) for s in l.split('\\t')] for l in lines]\n",
    "\n",
    "    # Instanceamos las clases Lang\n",
    "    if reverse:\n",
    "        pairs = [list(reversed(p)) for p in pairs]\n",
    "        input_lang = Language(lang2)\n",
    "        output_lang = Language(lang1)\n",
    "    else:\n",
    "        input_lang = Language(lang1)\n",
    "        output_lang = Language(lang2)\n",
    "\n",
    "    return input_lang, output_lang, pairs"
   ]
  },
  {
   "cell_type": "markdown",
   "metadata": {},
   "source": [
    "Cargamos los datos del set de entrenamieto a dos clases de tipo Language: input(inglés) y output(italiano). "
   ]
  },
  {
   "cell_type": "code",
   "execution_count": 7,
   "metadata": {
    "scrolled": true
   },
   "outputs": [
    {
     "name": "stdout",
     "output_type": "stream",
     "text": [
      "Loading Files...\n",
      "Read 900 sentence pairs\n",
      "Trimmed to 897 sentence pairs\n",
      "Counting words...\n",
      "Counted words:\n",
      "eng 3276\n",
      "ita 4389\n",
      "['the vote will take place tomorrow at pm', 'la votazione si svolgera domani alle']\n"
     ]
    }
   ],
   "source": [
    "def prepareData(lang1, lang2, reverse=False):\n",
    "    input_lang, output_lang, pairs = readFile(lang1, lang2, reverse)\n",
    "    print(\"Read %s sentence pairs\" % len(pairs))\n",
    "    pairs = filterPairs(pairs)\n",
    "    print(\"Trimmed to %s sentence pairs\" % len(pairs))\n",
    "    print(\"Counting words...\")\n",
    "    for pair in pairs:\n",
    "        input_lang.procSentences(pair[0])\n",
    "        output_lang.procSentences(pair[1])\n",
    "    print(\"Counted words:\")\n",
    "    print(input_lang.name, input_lang.total)\n",
    "    print(output_lang.name, output_lang.total)\n",
    "    return output_lang, input_lang, pairs\n",
    "\n",
    "\n",
    "output_lang, input_lang, pairs = prepareData('eng', 'ita', False)\n",
    "print(random.choice(pairs))"
   ]
  },
  {
   "cell_type": "code",
   "execution_count": 8,
   "metadata": {},
   "outputs": [
    {
     "data": {
      "text/plain": [
       "<__main__.Language at 0x23c02418fd0>"
      ]
     },
     "execution_count": 8,
     "metadata": {},
     "output_type": "execute_result"
    }
   ],
   "source": [
    "input_lang"
   ]
  },
  {
   "cell_type": "markdown",
   "metadata": {},
   "source": [
    "## Red Neuronal Recurrente (RNN)\n",
    "Una red neuronal recurrente es un tipo de red que utiliza secuancias para preoducir una salida tomando en cuenta la organización de la entrada de la red. Uno de los principales retos con las RNN es que el modelo de la red normalmente produce como máximo una salida por cada dato de entrada y en el ejemplo de traducción tenemos palabras que pueden producir más de una salida por lo que el modelo tradicional de RNN no nos es completamente útil para traducción.\n",
    "\n",
    "### Seq2Seq (Encoder-Decoder)\n",
    "Para solucionar esto, utilizaremos dos RNR una que nos servirá de encoder y otra que nos servirá de decoder de la traducción. El objetivo con esto es que sin importar la longitud de la frase de entrada o su organización, en cuanto a la posición de las palabras en el texto, podamos hacer la traducción de la manera más precisa posible. Esto se logra generando un vector intermedio en el que se intenta almacenar el significado de la frase de entrada a través del encoder y despues este significado es interpretado por el decoder en la salida.\n",
    "\n",
    "![encoder-decoder](./imagenes/paper-encode.png)\n",
    "\n",
    "Al final, viendo la imagen #1 del Notebook, no importa si la entrada es `le chat es noir` o `le chat noir` como el significado es el mismo debería producir el mismo resultado.\n",
    "\n",
    "### Encoder\n",
    "\n",
    "Un encoder de una red seq2seq utiliza el la secuanciaq de datos de entrada para generar un estado oculto el cual se va actualizando y se utriliza para el siguiente dato de entrada.\n",
    "\n",
    "Para el encoder usaremos una unidad GRU (Unidad Recurrente multicapa con compuertas), la cual, para cada una de las entradas, hará el siguiente cálculo.\n",
    "\n",
    "\\begin{array}{ll}\n",
    "            r_t = \\sigma(W_{ir} x_t + b_{ir} + W_{hr} h_{(t-1)} + b_{hr}) \\\\\n",
    "            z_t = \\sigma(W_{iz} x_t + b_{iz} + W_{hz} h_{(t-1)} + b_{hz}) \\\\\n",
    "            n_t = \\tanh(W_{in} x_t + b_{in} + r_t * (W_{hn} h_{(t-1)}+ b_{hn})) \\\\\n",
    "            h_t = (1 - z_t) * n_t + z_t * h_{(t-1)}\n",
    "\\end{array}\n",
    "\n",
    "Donde:\n",
    "\\begin{array}{ll}\n",
    "     h_{(t)} -> \\text{Estado oculto en el tiempo t}\\\\\n",
    "     x_t -> \\text{La entrada en el tiempo t} \\\\\n",
    "     h_{(t-1)} -> \\text{Estado oculto en el tiempo t-1 o el inicial para t=0} \\\\\n",
    "     z_t -> \\text{Gate de actualización} \\\\\n",
    "     r_t -> \\text{Gate de reset} \\\\\n",
    "     n_t -> \\text{}\\\\\n",
    "     \\sigma -> \\text{Funcion sigmoide} \\\\\n",
    "     * -> \\text{Producto de Hadamard} \\\\\n",
    "\\end{array}\n",
    "        "
   ]
  },
  {
   "cell_type": "code",
   "execution_count": 9,
   "metadata": {},
   "outputs": [],
   "source": [
    "class Encoder(nn.Module):\n",
    "    \"\"\"Clase encoder que toma un vector de entrada y lo embede para aplicar la unidad \n",
    "    recurrente y terminar generando un vector de salida y un vector de capa oculta\"\"\"\n",
    "    def __init__(self, input_size, hidden_size):\n",
    "        \"\"\"Inicicaliza el encode con el tamaño que asignemos para el vector de la capa oculta\"\"\"\n",
    "        \n",
    "        super(Encoder, self).__init__()\n",
    "        self.hidden_size = hidden_size\n",
    "\n",
    "        self.embedding = nn.Embedding(input_size, hidden_size)\n",
    "        self.gru = nn.GRU(hidden_size, hidden_size)\n",
    "\n",
    "    def forward(self, input, hidden):\n",
    "        \"\"\"Programamos el forward para obtener el output y el hidden vector\"\"\"\n",
    "        embedded = self.embedding(input).view(1, 1, -1)\n",
    "        output = embedded\n",
    "        output, hidden = self.gru(output, hidden)\n",
    "        return output, hidden\n",
    "\n",
    "    def initHidden(self):\n",
    "        \"\"\"Inicializa el vector de la capa oculta con ceros\"\"\"\n",
    "        return torch.zeros(1, 1, self.hidden_size, device=device)"
   ]
  },
  {
   "cell_type": "markdown",
   "metadata": {
    "collapsed": true
   },
   "source": [
    "### Decodificador\n",
    "En este caso vamos a hacer que el decosder tome dos parte del encoder: el vector de salida que generó el encoder al cual le llamaremos el vector de contexto que se utilizará como la inicialización de la capa oculta en el decodificador.\n",
    "\n",
    "Los paso del decodificador serán los siguientes:\n",
    " 1. Embedding del input\n",
    " 2. Aplicamos RELU al embedding\n",
    " 3. Aplicamos la unidad GRU y obtenemos un output y una capa oculta\n",
    " 4. al output aplicamos un softmax \n",
    " \n",
    "Recordando que:\n",
    " \n",
    " $\\text{ReLu} -> f(x)=max(0, x)$\n",
    " \n",
    " $\\text{Linear}-> y = xA^T + b$\n",
    " \n",
    " $\\text{Softmax}(x_{i}) = \\frac{\\exp(x_i)}{\\sum_j \\exp(x_j)}$"
   ]
  },
  {
   "cell_type": "code",
   "execution_count": 10,
   "metadata": {},
   "outputs": [],
   "source": [
    "class Decoder(nn.Module):\n",
    "    \"\"\"Esta clase aimplementa un decoder sencillo que utiliza un vector de contexto y un \n",
    "    vector de entrada que provienen del encoder.\"\"\"\n",
    "    \n",
    "    def __init__(self, hidden_size, output_size):\n",
    "        \"\"\"Inicializamos la capa oculta del decodificador y las funciones como \n",
    "        parte del decoder.\"\"\"\n",
    "        super(Decoder, self).__init__()\n",
    "        self.hidden_size = hidden_size\n",
    "\n",
    "        self.embedding = nn.Embedding(output_size, hidden_size)\n",
    "        self.gru = nn.GRU(hidden_size, hidden_size)\n",
    "        self.out = nn.Linear(hidden_size, output_size)\n",
    "        self.softmax = nn.LogSoftmax(dim=1)\n",
    "\n",
    "    def forward(self, input, hidden):\n",
    "        \"\"\"Hacemos el forward de la neurona con los pasos explicados previamente\"\"\"\n",
    "        output = self.embedding(input).view(1, 1, -1)\n",
    "        output = F.relu(output)\n",
    "        output, hidden = self.gru(output, hidden)\n",
    "        output = self.softmax(self.out(output[0]))\n",
    "        return output, hidden\n",
    "\n",
    "    def initHidden(self):\n",
    "        \"\"\"Inicializamos el vector de la capa oculta con ceros.\"\"\"\n",
    "        return torch.zeros(1, 1, self.hidden_size, device=device)"
   ]
  },
  {
   "cell_type": "markdown",
   "metadata": {},
   "source": [
    "## Decodificador con Atención\n",
    "Un problema que tiene el modelo anterior es que considera el mismo peso para todas las entradas del vector de contexto por lo que si damos pesos distintos a cada uno de las casillas de los vectores dependiendo de su relevancia en la frase podremos obtener una optimización al momento de traducir ya que el decodificador podrá enfocarse únicamente en una parte del vector de contexto. A esto se le llama `aplicacion de atención`. \n",
    "\n",
    "Para hacer el calculo de atención es necesario agregar una red feedforward adicional que tome las salida del encoder, se le aplique softmax al vector salida de la red y con eso obtendremos los pesos de cada uno de los bloques del vector de atención. La arquitectura de la red queda como se muestra a continuación: \n",
    "\n",
    "![arquitectura](./imagenes/atention.png)"
   ]
  },
  {
   "cell_type": "code",
   "execution_count": 11,
   "metadata": {},
   "outputs": [],
   "source": [
    "class AttnDecoder(nn.Module):\n",
    "    \"\"\"Decodificador utilizando una red neuronal recursive con atención.\"\"\"\n",
    "    def __init__(self, hidden_size, output_size, dropout_p=0.1, max_length=MAX_LENGTH):\n",
    "        \"\"\"Inicializamos el decodificador basandonos en la arquitectura anterior\"\"\"\n",
    "        super(AttnDecoder, self).__init__()\n",
    "        self.hidden_size = hidden_size # Tamaño de la capa oculta\n",
    "        self.output_size = output_size # Tamaño del vector de salida\n",
    "        self.dropout_p = dropout_p     # Valor del dropout\n",
    "        self.max_length = max_length   # Tamaño máximo de la frase que se va a leer\n",
    "\n",
    "        self.embedding = nn.Embedding(self.output_size, self.hidden_size)     # Función para hacer el embedding\n",
    "        self.attn = nn.Linear(self.hidden_size * 2, self.max_length)          # Activación Lineal\n",
    "        self.attn_combine = nn.Linear(self.hidden_size * 2, self.hidden_size) # Vector que une el peso y atencion aplicada \n",
    "        self.dropout = nn.Dropout(self.dropout_p)                             # Aplicación de Bernouli para eliminar elementos\n",
    "        self.gru = nn.GRU(self.hidden_size, self.hidden_size)\n",
    "        self.out = nn.Linear(self.hidden_size, self.output_size)\n",
    "\n",
    "    def forward(self, input, hidden, encoder_outputs):\n",
    "        \"\"\"Fase forward del Decoder.Bloques azules de la arquitectura\"\"\"\n",
    "        embedded = self.embedding(input).view(1, 1, -1)\n",
    "        embedded = self.dropout(embedded)\n",
    "\n",
    "        attn_weights = F.softmax(\n",
    "            self.attn(torch.cat((embedded[0], hidden[0]), 1)), dim=1)\n",
    "        attn_applied = torch.bmm(attn_weights.unsqueeze(0),\n",
    "                                 encoder_outputs.unsqueeze(0)) # Union de los vecotres encoder y attn weights\n",
    "\n",
    "        output = torch.cat((embedded[0], attn_applied[0]), 1)\n",
    "        output = self.attn_combine(output).unsqueeze(0)\n",
    "\n",
    "        output = F.relu(output)\n",
    "        output, hidden = self.gru(output, hidden)\n",
    "\n",
    "        output = F.log_softmax(self.out(output[0]), dim=1)\n",
    "        return output, hidden, attn_weights\n",
    "\n",
    "    def initHidden(self):\n",
    "        \"\"\"Inicializa el decodificador\"\"\"\n",
    "        return torch.zeros(1, 1, self.hidden_size, device=device)"
   ]
  },
  {
   "cell_type": "code",
   "execution_count": null,
   "metadata": {},
   "outputs": [],
   "source": []
  },
  {
   "cell_type": "markdown",
   "metadata": {},
   "source": [
    "Preparamos los datos para ser usado en la fase de entrenamiento."
   ]
  },
  {
   "cell_type": "code",
   "execution_count": 12,
   "metadata": {},
   "outputs": [],
   "source": [
    "def indexesFromSentence(lang, sentence):\n",
    "    \"\"\"Obtiene los indices dependiendo de la palabra\"\"\"\n",
    "    return [lang.word2index[word] for word in sentence.split(' ')]\n",
    "\n",
    "\n",
    "def tensorFromSentence(lang, sentence):\n",
    "    \"\"\"Convertimos una oración en un tensor\"\"\"\n",
    "    indexes = indexesFromSentence(lang, sentence)\n",
    "    indexes.append(EOS)\n",
    "    return torch.tensor(indexes, dtype=torch.long, device=device).view(-1, 1)\n",
    "\n",
    "\n",
    "def tensorsFromPair(pair):\n",
    "    \"\"\"Convierte el Par de frases en Tensores\"\"\"\n",
    "    input_tensor = tensorFromSentence(input_lang, pair[0])\n",
    "    target_tensor = tensorFromSentence(output_lang, pair[1])\n",
    "    return (input_tensor, target_tensor)"
   ]
  },
  {
   "cell_type": "markdown",
   "metadata": {},
   "source": [
    "## Entrenamiento\n",
    "\n",
    "Para el entrenamiento de la red, debemos hacer que la red recuerde o tenga presente los resultados anteriores en y el estado de la capa oculta. Despues se le daba dar al decodificador una etiqueta de inicio de oración y la utilizará como el primer dato de entrada de la red. \n",
    "\n",
    "El concepto de `teacher_forcing_ratio` es el concepto de utilizar las salidas de target reales como cada entrada siguiente, en lugar de utilizarel decodificador como la siguiente entrada. Usar el `teacher_forcing_ratio` hace que converja más rápido hacia la solución."
   ]
  },
  {
   "cell_type": "code",
   "execution_count": 13,
   "metadata": {},
   "outputs": [],
   "source": [
    "teacher_forcing_ratio = 0.5\n",
    "\n",
    "\n",
    "def train(input_tensor, target_tensor, encoder, decoder, encoder_optimizer, decoder_optimizer, criterion, max_length=MAX_LENGTH):\n",
    "    encoder_hidden = encoder.initHidden()\n",
    "    \"\"\"Funcion que nos da la base del entrenamiento del algoritmo\"\"\"\n",
    "\n",
    "    encoder_optimizer.zero_grad() # Limpia los gradiantes.\n",
    "    decoder_optimizer.zero_grad()\n",
    "\n",
    "    input_length = input_tensor.size(0)\n",
    "    target_length = target_tensor.size(0)\n",
    "\n",
    "    encoder_outputs = torch.zeros(max_length, encoder.hidden_size, device=device)\n",
    "\n",
    "    loss = 0\n",
    "\n",
    "    for ei in range(input_length):\n",
    "        encoder_output, encoder_hidden = encoder(\n",
    "            input_tensor[ei], encoder_hidden)\n",
    "        encoder_outputs[ei] = encoder_output[0, 0]\n",
    "\n",
    "    # Agregamos el token de BOS en el incio del tensor del decodificador\n",
    "    decoder_input = torch.tensor([[BOS]], device=device)\n",
    "\n",
    "    decoder_hidden = encoder_hidden\n",
    "\n",
    "    use_teacher_forcing = True if random.random() < teacher_forcing_ratio else False\n",
    "\n",
    "    if use_teacher_forcing:\n",
    "        # Usamos teacher forcing para usar el target en el entrenamiento\n",
    "        for di in range(target_length):\n",
    "            decoder_output, decoder_hidden, decoder_attention = decoder(\n",
    "                decoder_input, decoder_hidden, encoder_outputs)\n",
    "            loss += criterion(decoder_output, target_tensor[di])\n",
    "            decoder_input = target_tensor[di]  # Teacher forcing\n",
    "\n",
    "    else:\n",
    "        # Sin el teacher forcing usamos las predicciones como input en el entrenamiento. \n",
    "        for di in range(target_length):\n",
    "            decoder_output, decoder_hidden, decoder_attention = decoder(\n",
    "                decoder_input, decoder_hidden, encoder_outputs)\n",
    "            topv, topi = decoder_output.topk(1)\n",
    "            decoder_input = topi.squeeze().detach()\n",
    "\n",
    "            loss += criterion(decoder_output, target_tensor[di])\n",
    "            \n",
    "            # Si llega a EOS termina el ciclo\n",
    "            if decoder_input.item() == EOS:\n",
    "                break\n",
    "\n",
    "    loss.backward() # Calculamos BackPropagation\n",
    "\n",
    "    encoder_optimizer.step()\n",
    "    decoder_optimizer.step()\n",
    "\n",
    "    return loss.item() / target_length"
   ]
  },
  {
   "cell_type": "markdown",
   "metadata": {},
   "source": [
    "### Funciones de apoyo\n",
    "Creamos una serie de funciones de apoyo para que podamos medir tiempos d entrenamiento."
   ]
  },
  {
   "cell_type": "code",
   "execution_count": 14,
   "metadata": {},
   "outputs": [],
   "source": [
    "import time\n",
    "import math\n",
    "\n",
    "\n",
    "def asMinutes(s):\n",
    "    m = math.floor(s / 60)\n",
    "    s -= m * 60\n",
    "    return '%dm %ds' % (m, s)\n",
    "\n",
    "\n",
    "def timeSince(since, percent):\n",
    "    now = time.time()\n",
    "    s = now - since\n",
    "    es = s / (percent)\n",
    "    rs = es - s\n",
    "    return '%s (- %s)' % (asMinutes(s), asMinutes(rs))"
   ]
  },
  {
   "cell_type": "code",
   "execution_count": 15,
   "metadata": {},
   "outputs": [],
   "source": [
    "def trainIters(encoder, decoder, n_iters, print_every=1000, plot_every=100, learning_rate=0.01):\n",
    "    \"\"\"Corre la fase de entrenamiento en un determinado número de iteraciones e imprime\n",
    "    los tiempos necesarios así como el loss que tiene el entrenamiento. Cuenta con los siguientes procesos:\n",
    "    \n",
    "        1) Comienza con el timer para calcular el tiempo de entrenamiento.\n",
    "        2) Inicializa los oprtimizadores y criterion\n",
    "        3) Crea los pares de entrenamiento\n",
    "        4) Crea los vectores de las graficas\n",
    "    \"\"\"\n",
    "    \n",
    "    start = time.time()\n",
    "    plot_losses = []\n",
    "    print_loss_total = 0  # Reset every print_every\n",
    "    plot_loss_total = 0  # Reset every plot_every\n",
    "\n",
    "    # Para optimizar el encoder y decoder usamos Stochastic Gradient Descent (SGD)\n",
    "    encoder_optimizer = optim.SGD(encoder.parameters(), lr=learning_rate)\n",
    "    decoder_optimizer = optim.SGD(decoder.parameters(), lr=learning_rate)\n",
    "    training_pairs = [tensorsFromPair(random.choice(pairs))\n",
    "                      for i in range(n_iters)]\n",
    "    # Para obtener el criterion usamos negative log likelihood loss (NLLLoss)\n",
    "    criterion = nn.NLLLoss()\n",
    "\n",
    "    for iter in range(1, n_iters + 1):\n",
    "        training_pair = training_pairs[iter - 1]\n",
    "        input_tensor = training_pair[0]\n",
    "        target_tensor = training_pair[1]\n",
    "\n",
    "        loss = train(input_tensor, target_tensor, encoder,\n",
    "                     decoder, encoder_optimizer, decoder_optimizer, criterion)\n",
    "        print_loss_total += loss\n",
    "        plot_loss_total += loss\n",
    "\n",
    "        if iter % print_every == 0:\n",
    "            print_loss_avg = print_loss_total / print_every\n",
    "            print_loss_total = 0\n",
    "            print('%s (%d %d%%) %.4f' % (timeSince(start, iter / n_iters),\n",
    "                                         iter, iter / n_iters * 100, print_loss_avg))\n",
    "\n",
    "        if iter % plot_every == 0:\n",
    "            plot_loss_avg = plot_loss_total / plot_every\n",
    "            plot_losses.append(plot_loss_avg)\n",
    "            plot_loss_total = 0\n",
    "\n",
    "    showPlot(plot_losses)"
   ]
  },
  {
   "cell_type": "code",
   "execution_count": 16,
   "metadata": {},
   "outputs": [],
   "source": [
    "import matplotlib.pyplot as plt\n",
    "plt.switch_backend('agg')\n",
    "import matplotlib.ticker as ticker\n",
    "import numpy as np\n",
    "\n",
    "\n",
    "def showPlot(points):\n",
    "    \"\"\"Imprimimos ls gráfica\"\"\"\n",
    "    plt.figure()\n",
    "    fig, ax = plt.subplots()\n",
    "    # this locator puts ticks at regular intervals\n",
    "    loc = ticker.MultipleLocator(base=0.2)\n",
    "    ax.yaxis.set_major_locator(loc)\n",
    "    plt.plot(points)"
   ]
  },
  {
   "cell_type": "markdown",
   "metadata": {},
   "source": [
    "## Probar el Modelo\n",
    "Para probar el modelo seguimso un procedimiento similar al de entrenamietno pero en esta ocasión no le enviamos los targets al decodificador pero si lo alimentamos con las probabilidades que va obteniendo. Cuadno la probabilidad de EOS es muy alta es cuando el decodificador se detiene."
   ]
  },
  {
   "cell_type": "code",
   "execution_count": 17,
   "metadata": {},
   "outputs": [],
   "source": [
    "def evaluate(encoder, decoder, sentence, max_length=MAX_LENGTH):\n",
    "    with torch.no_grad():\n",
    "        input_tensor = tensorFromSentence(input_lang, sentence)\n",
    "        input_length = input_tensor.size()[0]\n",
    "        encoder_hidden = encoder.initHidden()\n",
    "\n",
    "        encoder_outputs = torch.zeros(max_length, encoder.hidden_size, device=device)\n",
    "\n",
    "        for ei in range(input_length):\n",
    "            encoder_output, encoder_hidden = encoder(input_tensor[ei],\n",
    "                                                     encoder_hidden)\n",
    "            encoder_outputs[ei] += encoder_output[0, 0]\n",
    "\n",
    "        decoder_input = torch.tensor([[BOS]], device=device)  # SOS\n",
    "\n",
    "        decoder_hidden = encoder_hidden\n",
    "\n",
    "        decoded_words = []\n",
    "        decoder_attentions = torch.zeros(max_length, max_length)\n",
    "\n",
    "        for di in range(max_length):\n",
    "            decoder_output, decoder_hidden, decoder_attention = decoder(\n",
    "                decoder_input, decoder_hidden, encoder_outputs)\n",
    "            decoder_attentions[di] = decoder_attention.data\n",
    "            topv, topi = decoder_output.data.topk(1)\n",
    "            if topi.item() == EOS:\n",
    "                decoded_words.append('<EOS>')\n",
    "                break\n",
    "            else:\n",
    "                decoded_words.append(output_lang.index2word[topi.item()])\n",
    "\n",
    "            decoder_input = topi.squeeze().detach()\n",
    "\n",
    "        return decoded_words, decoder_attentions[:di + 1]"
   ]
  },
  {
   "cell_type": "markdown",
   "metadata": {},
   "source": [
    "Usamos el metodo anterior para poder evaluar las frases y mostrar la frase original, el target y, por último, el output de la red seq2seq. Esto nos sirve para hacer la comparación entre lo que esperamos de resultado y lo que obtenemos."
   ]
  },
  {
   "cell_type": "code",
   "execution_count": null,
   "metadata": {},
   "outputs": [],
   "source": [
    "def evaluateRandomly(encoder, decoder, n=10):\n",
    "    for i in range(n):\n",
    "        pair = random.choice(pairs)\n",
    "        print('>', pair[0])\n",
    "        print('=', pair[1])\n",
    "        output_words, attentions = evaluate(encoder, decoder, pair[0])\n",
    "        output_sentence = ' '.join(output_words)\n",
    "        print('<', output_sentence)\n",
    "        print('')"
   ]
  },
  {
   "cell_type": "markdown",
   "metadata": {},
   "source": [
    "## Entrenamos el modelo\n",
    "Para entrenar el modelo, hicimos varias pruebas de sobre el numero de iteraciones óptimo ya que si entrenabamos con demasiadas iteraciones el \"loss\" aumentaba al final o si usabamos muy poco "
   ]
  },
  {
   "cell_type": "code",
   "execution_count": 19,
   "metadata": {},
   "outputs": [
    {
     "name": "stdout",
     "output_type": "stream",
     "text": [
      "2m 30s (- 47m 31s) (1000 5%) 5.3746\n",
      "4m 53s (- 44m 3s) (2000 10%) 5.1583\n",
      "7m 14s (- 41m 0s) (3000 15%) 4.9700\n",
      "9m 40s (- 38m 41s) (4000 20%) 4.7750\n",
      "12m 4s (- 36m 13s) (5000 25%) 4.5432\n",
      "14m 31s (- 33m 54s) (6000 30%) 4.3629\n",
      "16m 58s (- 31m 32s) (7000 35%) 4.1569\n",
      "19m 30s (- 29m 15s) (8000 40%) 3.9300\n",
      "21m 59s (- 26m 53s) (9000 45%) 3.6441\n",
      "24m 29s (- 24m 29s) (10000 50%) 3.5987\n",
      "27m 6s (- 22m 10s) (11000 55%) 3.2824\n",
      "29m 39s (- 19m 46s) (12000 60%) 3.1099\n",
      "32m 22s (- 17m 26s) (13000 65%) 2.9756\n",
      "35m 0s (- 15m 0s) (14000 70%) 2.8072\n",
      "37m 42s (- 12m 34s) (15000 75%) 2.8006\n",
      "40m 18s (- 10m 4s) (16000 80%) 2.6489\n",
      "43m 1s (- 7m 35s) (17000 85%) 2.7290\n",
      "45m 38s (- 5m 4s) (18000 90%) 2.5496\n",
      "48m 18s (- 2m 32s) (19000 95%) 2.6260\n",
      "50m 58s (- 0m 0s) (20000 100%) 2.5824\n"
     ]
    },
    {
     "data": {
      "text/plain": [
       "<Figure size 432x288 with 0 Axes>"
      ]
     },
     "metadata": {},
     "output_type": "display_data"
    },
    {
     "data": {
      "image/png": "[encoded data removed]",
      "text/plain": [
       "<Figure size 432x288 with 1 Axes>"
      ]
     },
     "metadata": {
      "needs_background": "light"
     },
     "output_type": "display_data"
    }
   ],
   "source": [
    "hidden_size = 256\n",
    "encoder1 = Encoder(input_lang.total, hidden_size).to(device)\n",
    "attn_decoder1 = AttnDecoder(hidden_size, output_lang.total, dropout_p=0.1).to(device)\n",
    "\n",
    "trainIters(encoder1, attn_decoder1, 20000, print_every=1000)"
   ]
  },
  {
   "cell_type": "markdown",
   "metadata": {},
   "source": [
    "# Probar el Modelo\n",
    "Evaluamos el modelo con datos aleatorios para comparar la salida esperada y la salida obtenida de manera visual. Esto nos permite darnos una idea de que tan buena es la traducción que hace el sistema."
   ]
  },
  {
   "cell_type": "markdown",
   "metadata": {},
   "source": []
  },
  {
   "cell_type": "code",
   "execution_count": 29,
   "metadata": {},
   "outputs": [
    {
     "name": "stdout",
     "output_type": "stream",
     "text": [
      "> however when it comes to safety i am rather sceptical because safety in sweden for example is in principle no different from safety in germany italy or austria\n",
      "= per quanto riguarda la sicurezza invece sono piuttosto scettico in quanto la sicurezza in svezia non e sostanzialmente diversa dalla sicurezza in germania in italia o in austria\n",
      "< per quanto riguarda la la la quanto la sicurezza in quanto in in quanto in quanto in in quanto in in in quanto in la quanto in in in in in in in in in in in in in in in quanto in in in in dalla <EOS>\n",
      "\n",
      "> you will tell me that situations of growth or shortage do not affect everyone alike i agree with your analysis\n",
      "= mi ribatterete che la crescita o la penuria non valgono per tutti e sono pienamente d accordo con tali analisi\n",
      "< mi ribatterete che la crescita che non la la per valgono e la pienamente d accordo con il parlamento <EOS>\n",
      "\n",
      "> these days someone who lives in an old people s home is accommodated within the social field\n",
      "= oggi come oggi chi risiede in una casa per anziani e alloggiato in ambito sociale pero posso considerarlo anche come un cliente\n",
      "< oggi come oggi oggi chi risiede in una casa per anziani una casa anziani e alloggiato <EOS>\n",
      "\n",
      "> this is also important where the prerequisites for the internal market are concerned\n",
      "= limpatto di queste regole e importante anche ai fini del mercato interno\n",
      "< limpatto queste regole di di di queste regole di potenziamento non e regole di potenziamento <EOS>\n",
      "\n",
      "> we do not want to make the conditions of competition worse for some countries unilaterally and improve them for countries such as austria or other transit countries\n",
      "= non ci proponiamo di peggiorare unilateralmente le condizioni di concorrenza per alcuni paesi favorendo paesi di transito come laustria\n",
      "< non ci proponiamo di peggiorare unilateralmente la posizione dei mercati non ci proponiamo di la paesi che paesi l paesi e l l di il di <EOS>\n",
      "\n",
      "> as far as french planning experts are concerned for example the most probable scenario today is that of the entrenchment of regional disparities within each country\n",
      "= per gli esperti del piano francese lo scenario oggi piu plausibile e l approfondirsi del divario tra le regioni all interno di ogni paese\n",
      "< gli esperti del piano francese piu plausibile e lo scenario del divario di le regioni dell occupazione e un divario di lavoro e le regioni dellobiettivo della politica regionale <EOS>\n",
      "\n",
      "> due to the elections to the european parliament taking place around this time however parliament was not able to undertake its examination of these guidelines until after the text had been definitively adopted in july\n",
      "= vista l imminenza delle elezioni europee in pratica il parlamento ha potuto intraprendere l esame delle linee direttrici soltanto nel luglio quando il testo era stato gia adottato in via definitiva\n",
      "< vista l imminenza delle elezioni il il di ha il l il dei l il europea a delle l esame alla creazione <EOS>\n",
      "\n",
      "> the second point i would like to make and which i would have wished to make yesterday before the vote is that this parliament as other speakers remarked yesterday can only really have an effect if it works in close cooperation and synergy with the european commission\n",
      "= la mia seconda osservazione che avrei desiderato formulare ieri prima del voto e che il parlamento come altri onorevoli colleghi hanno ricordato ieri puo operare in modo davvero efficace solo se lavora in stretta cooperazione e sinergia con la commissione europea\n",
      "<  che un insegnamento la che che che e voto che voto voto onorevoli e saranno come hanno ricordato ma questa discussione sulla propria parte dei fondi strutturali e dei fondi di priorita per la temperatura ambiente <EOS>\n",
      "\n",
      "> i am very pleased with the level of support offered by your house to the commission in establishing these guidelines which have been submitted to the member states for information when establishing their own programmes\n",
      "= cio non puo che confortare la concezione fondata sulle buone pratiche tratte dall esperienza dei programmi per il periodo\n",
      "< cio che che non che confortare la commissione fondata fondata il che si dei trasporti <EOS>\n",
      "\n",
      "> mr president it is incumbent upon me to remind my colleague mr evans of why wales actually achieved objective status it was because of the discredited policies of his own conservative party\n",
      "= signor presidente sento il dovere di ricordare al mio collega onorevole evans il vero motivo per cui il galles ha ottenuto lo status di regione dellobiettivo e stato a causa delle sciagurate politiche del suo partito conservatore\n",
      "< signor presidente il il il dovere di ricordare al mio collega onorevole evans per il per motivo cui l onorevole evans ha delle per tra le <EOS>\n",
      "\n"
     ]
    }
   ],
   "source": [
    "evaluateRandomly(encoder1, attn_decoder1)"
   ]
  },
  {
   "cell_type": "code",
   "execution_count": 112,
   "metadata": {},
   "outputs": [
    {
     "name": "stdout",
     "output_type": "stream",
     "text": [
      "0.9090909090909086\n"
     ]
    }
   ],
   "source": [
    "import difflib\n",
    "evaluations = 300\n",
    "\n",
    "def evalTranslator():\n",
    "    correctos = 0.0\n",
    "    for i in range(evaluations):\n",
    "        pair = random.choice(pairs)\n",
    "        tradGen, att = evaluate(encoder1, attn_decoder1, pair[0])\n",
    "        correctos += difflib.SequenceMatcher(lambda x: x == \" \", trad,tradG[:-6]).ratio()\n",
    "    acc = correctos / evaluations\n",
    "    return acc\n",
    "                                \n",
    "accuracy = evalTranslator()\n",
    "print(accuracy)"
   ]
  },
  {
   "cell_type": "code",
   "execution_count": null,
   "metadata": {},
   "outputs": [],
   "source": []
  },
  {
   "cell_type": "code",
   "execution_count": null,
   "metadata": {},
   "outputs": [],
   "source": []
  },
  {
   "cell_type": "code",
   "execution_count": null,
   "metadata": {},
   "outputs": [],
   "source": []
  },
  {
   "cell_type": "code",
   "execution_count": 35,
   "metadata": {},
   "outputs": [
    {
     "name": "stdout",
     "output_type": "stream",
     "text": [
      "Loading Files...\n",
      "given that the commission is represented by vicepresident de palacio i believe that before voting it would help if the commission could let us know how ready it is to present this programme as agreed alternatively parliament is not ready to examine this programme as some appear to be suggesting\n"
     ]
    }
   ],
   "source": [
    "def readTestsFile(lang):\n",
    "    \"\"\"Lee el archivo de entrenamiento del traductor, lo limpia y asigna una clase Language\n",
    "    para almacenar los datos del lenguaje. Se permite revertir el orden para realizar pruebas\n",
    "    traduciendo de manera inversa el lenguaje.\n",
    "    \"\"\"\n",
    "    \n",
    "    print(\"Loading Evaluation...\")\n",
    "\n",
    "    # Abrimos el archivo y lo dividmos por salto de linea para obtener\n",
    "    # los pares en una sola linea.\n",
    "    lines = []\n",
    "    lines = open('./corpus/data3.eval', encoding='utf-8').read().strip().split('\\n')\n",
    "    #print(\"Found {} lines\".format(len(lines)))\n",
    "    return lines\n",
    "\n",
    "\n",
    "eval_sentence = readTestsFile('eng')\n",
    "print(random.choice(eval_sentence))"
   ]
  },
  {
   "cell_type": "code",
   "execution_count": 84,
   "metadata": {},
   "outputs": [
    {
     "name": "stdout",
     "output_type": "stream",
     "text": [
      "> agenda\n",
      "< per la proposta di la punto di vista del giorno <EOS>\n",
      "\n"
     ]
    }
   ],
   "source": [
    "sentence = random.choice(eval_sentence)\n",
    "print('>', sentence)\n",
    "output_words, attentions = evaluate(encoder1, attn_decoder1, sentence)\n",
    "output_sentence = ' '.join(output_words)\n",
    "print('<', output_sentence)\n",
    "print('')\n"
   ]
  },
  {
   "cell_type": "code",
   "execution_count": null,
   "metadata": {},
   "outputs": [],
   "source": []
  },
  {
   "cell_type": "markdown",
   "metadata": {
    "collapsed": true
   },
   "source": [
    "## Referencias\n",
    " \n",
    " - Basile, Pierpaolo, et al. “Bi-Directional LSTM-CNNs-CRF for Italian Sequence Labeling.” Proceedings of the Fourth Italian Conference on Computational Linguistics CLiC-It 2017, 2017, pp. 18–23., doi:10.4000/books.aaccademia.2339.\n",
    " - Raval, Siraj. “Recurrent Neural Network - The Math of Intelligence (Week 5).” YouTube, YouTube, 19 July 2017, www.youtube.com/watch?v=BwmddtPFWtA.\n",
    " - Raval, Siraj. “LSTM Networks - The Math of Intelligence (Week 8).” YouTube, YouTube, 9 Aug. 2017, www.youtube.com/watch?v=9zhrxE5PQgY. \n",
    " - Trask, Andrew. “Anyone Can Learn To Code an LSTM-RNN in Python (Part 1: RNN).” Anyone Can Learn To Code an LSTM-RNN in Python (Part 1: RNN) - i Am Trask, iamtrask.github.io/2015/11/15/anyone-can-code-lstm/.\n",
    " - PyTorch. “Translation with a Sequence to Sequence Network and Attention.” Translation with a Sequence to Sequence Network and Attention - PyTorch Tutorials 1.1.0 Documentation, pytorch.org/tutorials/intermediate/seq2seq_translation_tutorial.html.\n",
    " - Ilya Sutskever. “Sequence to Sequence Learning with Neural Networks.” Cornell University, 10 Sept. 2014, arxiv.org/abs/1409.3215v3.\n",
    " - Cho, Kyunghyun, et al. “Learning Phrase Representations Using RNN Encoder–Decoder for Statistical Machine Translation.” Proceedings of the 2014 Conference on Empirical Methods in Natural Language Processing (EMNLP), 3 Sept. 2014, doi:10.3115/v1/d14-1179.\n",
    " - Luong, Thang, et al. “Effective Approaches to Attention-Based Neural Machine Translation.” Proceedings of the 2015 Conference on Empirical Methods in Natural Language Processing, 2015, doi:10.18653/v1/d15-1166.\n",
    "\n",
    "\n"
   ]
  },
  {
   "cell_type": "code",
   "execution_count": null,
   "metadata": {},
   "outputs": [],
   "source": []
  }
 ],
 "metadata": {
  "kernelspec": {
   "display_name": "Python 3",
   "language": "python",
   "name": "python3"
  },
  "language_info": {
   "codemirror_mode": {
    "name": "ipython",
    "version": 3
   },
   "file_extension": ".py",
   "mimetype": "text/x-python",
   "name": "python",
   "nbconvert_exporter": "python",
   "pygments_lexer": "ipython3",
   "version": "3.7.3"
  }
 },
 "nbformat": 4,
 "nbformat_minor": 2
}
